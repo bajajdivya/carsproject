{
  "nbformat": 4,
  "nbformat_minor": 0,
  "metadata": {
    "colab": {
      "name": "cars_project_2.ipynb",
      "provenance": [],
      "collapsed_sections": [],
      "authorship_tag": "ABX9TyMDGGFC6AKp39AZlrShMY7B",
      "include_colab_link": true
    },
    "kernelspec": {
      "name": "python3",
      "display_name": "Python 3"
    },
    "language_info": {
      "name": "python"
    }
  },
  "cells": [
    {
      "cell_type": "markdown",
      "metadata": {
        "id": "view-in-github",
        "colab_type": "text"
      },
      "source": [
        "<a href=\"https://colab.research.google.com/github/bajajdivya/project2_cars/blob/main/cars_project_2.ipynb\" target=\"_parent\"><img src=\"https://colab.research.google.com/assets/colab-badge.svg\" alt=\"Open In Colab\"/></a>"
      ]
    },
    {
      "cell_type": "code",
      "execution_count": 1,
      "metadata": {
        "id": "7B0PrG-gTr_J"
      },
      "outputs": [],
      "source": [
        "import pandas as pd\n",
        "from sklearn.preprocessing import OneHotEncoder\n",
        "from sklearn import preprocessing\n",
        "import matplotlib.pyplot as plt\n",
        "import seaborn as sns\n",
        "import numpy as np"
      ]
    },
    {
      "cell_type": "code",
      "source": [
        "df = pd.read_csv('/content/cars_engage_2022.csv')"
      ],
      "metadata": {
        "id": "FDbXmaV6V-3E"
      },
      "execution_count": 2,
      "outputs": []
    },
    {
      "cell_type": "markdown",
      "source": [
        "Creating the dataFrame containing only some columns from the entire dataset"
      ],
      "metadata": {
        "id": "8YuvGCHgJ5xh"
      }
    },
    {
      "cell_type": "code",
      "source": [
        "inputs = df.loc[df.Boot_Space.notna(),['Showroom_Price','Displacement','Cylinders','Valves_Per_Cylinder','Drivetrain','Cylinder_Configuration','Emission_Norm','Fuel_Tank_Capacity','Fuel_Type','City_Mileage','Kerb_Weight','Gears']]"
      ],
      "metadata": {
        "id": "Inx5urHsXBOI"
      },
      "execution_count": 3,
      "outputs": []
    },
    {
      "cell_type": "code",
      "source": [
        "inputs"
      ],
      "metadata": {
        "colab": {
          "base_uri": "https://localhost:8080/",
          "height": 641
        },
        "id": "X5AzOQTBY_oz",
        "outputId": "88f034bd-1b0a-4802-93e4-91edc00d400c"
      },
      "execution_count": 4,
      "outputs": [
        {
          "output_type": "execute_result",
          "data": {
            "text/plain": [
              "      Showroom_Price Displacement  Cylinders  Valves_Per_Cylinder  \\\n",
              "0             292667       624 cc        2.0                  2.0   \n",
              "1             236447       624 cc        2.0                  2.0   \n",
              "2             296661       624 cc        2.0                  2.0   \n",
              "3             334768       624 cc        2.0                  2.0   \n",
              "4             272223       624 cc        2.0                  2.0   \n",
              "...              ...          ...        ...                  ...   \n",
              "1271         1302000      1498 cc        4.0                  4.0   \n",
              "1272         1421000      1498 cc        4.0                  4.0   \n",
              "1273         1431000      1497 cc        4.0                  4.0   \n",
              "1274         1201000      1497 cc        4.0                  4.0   \n",
              "1275         6862560      3200 cc        4.0                  4.0   \n",
              "\n",
              "                   Drivetrain Cylinder_Configuration Emission_Norm  \\\n",
              "0      RWD (Rear Wheel Drive)                In-line         BS IV   \n",
              "1      RWD (Rear Wheel Drive)                In-line         BS IV   \n",
              "2      RWD (Rear Wheel Drive)                In-line         BS IV   \n",
              "3      RWD (Rear Wheel Drive)                In-line         BS IV   \n",
              "4      RWD (Rear Wheel Drive)                In-line         BS IV   \n",
              "...                       ...                    ...           ...   \n",
              "1271  FWD (Front Wheel Drive)                In-line         BS IV   \n",
              "1272  FWD (Front Wheel Drive)                In-line         BS IV   \n",
              "1273  FWD (Front Wheel Drive)                In-line          BS 6   \n",
              "1274  FWD (Front Wheel Drive)                In-line          BS 6   \n",
              "1275    AWD (All Wheel Drive)                In-line         BS IV   \n",
              "\n",
              "     Fuel_Tank_Capacity Fuel_Type City_Mileage Kerb_Weight Gears  \n",
              "0             24 litres    Petrol         23.6      660 kg     4  \n",
              "1             24 litres    Petrol         23.6      725 kg     4  \n",
              "2             15 litres       CNG         23.6      710 kg     4  \n",
              "3             24 litres    Petrol         23.6      725 kg     5  \n",
              "4             24 litres    Petrol         23.6      725 kg     4  \n",
              "...                 ...       ...          ...         ...   ...  \n",
              "1271          40 litres    Diesel         22.6     1170 kg     6  \n",
              "1272          40 litres    Diesel         22.6     1175 kg     6  \n",
              "1273          40 litres    Petrol           18     1107 kg     5  \n",
              "1274          40 litres    Petrol         14.3     1080 kg     5  \n",
              "1275          88 litres    Diesel         8.25     2335 kg     5  \n",
              "\n",
              "[1027 rows x 12 columns]"
            ],
            "text/html": [
              "\n",
              "  <div id=\"df-765061cc-9b28-4cdc-8fe9-6f2c9c8a42f7\">\n",
              "    <div class=\"colab-df-container\">\n",
              "      <div>\n",
              "<style scoped>\n",
              "    .dataframe tbody tr th:only-of-type {\n",
              "        vertical-align: middle;\n",
              "    }\n",
              "\n",
              "    .dataframe tbody tr th {\n",
              "        vertical-align: top;\n",
              "    }\n",
              "\n",
              "    .dataframe thead th {\n",
              "        text-align: right;\n",
              "    }\n",
              "</style>\n",
              "<table border=\"1\" class=\"dataframe\">\n",
              "  <thead>\n",
              "    <tr style=\"text-align: right;\">\n",
              "      <th></th>\n",
              "      <th>Showroom_Price</th>\n",
              "      <th>Displacement</th>\n",
              "      <th>Cylinders</th>\n",
              "      <th>Valves_Per_Cylinder</th>\n",
              "      <th>Drivetrain</th>\n",
              "      <th>Cylinder_Configuration</th>\n",
              "      <th>Emission_Norm</th>\n",
              "      <th>Fuel_Tank_Capacity</th>\n",
              "      <th>Fuel_Type</th>\n",
              "      <th>City_Mileage</th>\n",
              "      <th>Kerb_Weight</th>\n",
              "      <th>Gears</th>\n",
              "    </tr>\n",
              "  </thead>\n",
              "  <tbody>\n",
              "    <tr>\n",
              "      <th>0</th>\n",
              "      <td>292667</td>\n",
              "      <td>624 cc</td>\n",
              "      <td>2.0</td>\n",
              "      <td>2.0</td>\n",
              "      <td>RWD (Rear Wheel Drive)</td>\n",
              "      <td>In-line</td>\n",
              "      <td>BS IV</td>\n",
              "      <td>24 litres</td>\n",
              "      <td>Petrol</td>\n",
              "      <td>23.6</td>\n",
              "      <td>660 kg</td>\n",
              "      <td>4</td>\n",
              "    </tr>\n",
              "    <tr>\n",
              "      <th>1</th>\n",
              "      <td>236447</td>\n",
              "      <td>624 cc</td>\n",
              "      <td>2.0</td>\n",
              "      <td>2.0</td>\n",
              "      <td>RWD (Rear Wheel Drive)</td>\n",
              "      <td>In-line</td>\n",
              "      <td>BS IV</td>\n",
              "      <td>24 litres</td>\n",
              "      <td>Petrol</td>\n",
              "      <td>23.6</td>\n",
              "      <td>725 kg</td>\n",
              "      <td>4</td>\n",
              "    </tr>\n",
              "    <tr>\n",
              "      <th>2</th>\n",
              "      <td>296661</td>\n",
              "      <td>624 cc</td>\n",
              "      <td>2.0</td>\n",
              "      <td>2.0</td>\n",
              "      <td>RWD (Rear Wheel Drive)</td>\n",
              "      <td>In-line</td>\n",
              "      <td>BS IV</td>\n",
              "      <td>15 litres</td>\n",
              "      <td>CNG</td>\n",
              "      <td>23.6</td>\n",
              "      <td>710 kg</td>\n",
              "      <td>4</td>\n",
              "    </tr>\n",
              "    <tr>\n",
              "      <th>3</th>\n",
              "      <td>334768</td>\n",
              "      <td>624 cc</td>\n",
              "      <td>2.0</td>\n",
              "      <td>2.0</td>\n",
              "      <td>RWD (Rear Wheel Drive)</td>\n",
              "      <td>In-line</td>\n",
              "      <td>BS IV</td>\n",
              "      <td>24 litres</td>\n",
              "      <td>Petrol</td>\n",
              "      <td>23.6</td>\n",
              "      <td>725 kg</td>\n",
              "      <td>5</td>\n",
              "    </tr>\n",
              "    <tr>\n",
              "      <th>4</th>\n",
              "      <td>272223</td>\n",
              "      <td>624 cc</td>\n",
              "      <td>2.0</td>\n",
              "      <td>2.0</td>\n",
              "      <td>RWD (Rear Wheel Drive)</td>\n",
              "      <td>In-line</td>\n",
              "      <td>BS IV</td>\n",
              "      <td>24 litres</td>\n",
              "      <td>Petrol</td>\n",
              "      <td>23.6</td>\n",
              "      <td>725 kg</td>\n",
              "      <td>4</td>\n",
              "    </tr>\n",
              "    <tr>\n",
              "      <th>...</th>\n",
              "      <td>...</td>\n",
              "      <td>...</td>\n",
              "      <td>...</td>\n",
              "      <td>...</td>\n",
              "      <td>...</td>\n",
              "      <td>...</td>\n",
              "      <td>...</td>\n",
              "      <td>...</td>\n",
              "      <td>...</td>\n",
              "      <td>...</td>\n",
              "      <td>...</td>\n",
              "      <td>...</td>\n",
              "    </tr>\n",
              "    <tr>\n",
              "      <th>1271</th>\n",
              "      <td>1302000</td>\n",
              "      <td>1498 cc</td>\n",
              "      <td>4.0</td>\n",
              "      <td>4.0</td>\n",
              "      <td>FWD (Front Wheel Drive)</td>\n",
              "      <td>In-line</td>\n",
              "      <td>BS IV</td>\n",
              "      <td>40 litres</td>\n",
              "      <td>Diesel</td>\n",
              "      <td>22.6</td>\n",
              "      <td>1170 kg</td>\n",
              "      <td>6</td>\n",
              "    </tr>\n",
              "    <tr>\n",
              "      <th>1272</th>\n",
              "      <td>1421000</td>\n",
              "      <td>1498 cc</td>\n",
              "      <td>4.0</td>\n",
              "      <td>4.0</td>\n",
              "      <td>FWD (Front Wheel Drive)</td>\n",
              "      <td>In-line</td>\n",
              "      <td>BS IV</td>\n",
              "      <td>40 litres</td>\n",
              "      <td>Diesel</td>\n",
              "      <td>22.6</td>\n",
              "      <td>1175 kg</td>\n",
              "      <td>6</td>\n",
              "    </tr>\n",
              "    <tr>\n",
              "      <th>1273</th>\n",
              "      <td>1431000</td>\n",
              "      <td>1497 cc</td>\n",
              "      <td>4.0</td>\n",
              "      <td>4.0</td>\n",
              "      <td>FWD (Front Wheel Drive)</td>\n",
              "      <td>In-line</td>\n",
              "      <td>BS 6</td>\n",
              "      <td>40 litres</td>\n",
              "      <td>Petrol</td>\n",
              "      <td>18</td>\n",
              "      <td>1107 kg</td>\n",
              "      <td>5</td>\n",
              "    </tr>\n",
              "    <tr>\n",
              "      <th>1274</th>\n",
              "      <td>1201000</td>\n",
              "      <td>1497 cc</td>\n",
              "      <td>4.0</td>\n",
              "      <td>4.0</td>\n",
              "      <td>FWD (Front Wheel Drive)</td>\n",
              "      <td>In-line</td>\n",
              "      <td>BS 6</td>\n",
              "      <td>40 litres</td>\n",
              "      <td>Petrol</td>\n",
              "      <td>14.3</td>\n",
              "      <td>1080 kg</td>\n",
              "      <td>5</td>\n",
              "    </tr>\n",
              "    <tr>\n",
              "      <th>1275</th>\n",
              "      <td>6862560</td>\n",
              "      <td>3200 cc</td>\n",
              "      <td>4.0</td>\n",
              "      <td>4.0</td>\n",
              "      <td>AWD (All Wheel Drive)</td>\n",
              "      <td>In-line</td>\n",
              "      <td>BS IV</td>\n",
              "      <td>88 litres</td>\n",
              "      <td>Diesel</td>\n",
              "      <td>8.25</td>\n",
              "      <td>2335 kg</td>\n",
              "      <td>5</td>\n",
              "    </tr>\n",
              "  </tbody>\n",
              "</table>\n",
              "<p>1027 rows × 12 columns</p>\n",
              "</div>\n",
              "      <button class=\"colab-df-convert\" onclick=\"convertToInteractive('df-765061cc-9b28-4cdc-8fe9-6f2c9c8a42f7')\"\n",
              "              title=\"Convert this dataframe to an interactive table.\"\n",
              "              style=\"display:none;\">\n",
              "        \n",
              "  <svg xmlns=\"http://www.w3.org/2000/svg\" height=\"24px\"viewBox=\"0 0 24 24\"\n",
              "       width=\"24px\">\n",
              "    <path d=\"M0 0h24v24H0V0z\" fill=\"none\"/>\n",
              "    <path d=\"M18.56 5.44l.94 2.06.94-2.06 2.06-.94-2.06-.94-.94-2.06-.94 2.06-2.06.94zm-11 1L8.5 8.5l.94-2.06 2.06-.94-2.06-.94L8.5 2.5l-.94 2.06-2.06.94zm10 10l.94 2.06.94-2.06 2.06-.94-2.06-.94-.94-2.06-.94 2.06-2.06.94z\"/><path d=\"M17.41 7.96l-1.37-1.37c-.4-.4-.92-.59-1.43-.59-.52 0-1.04.2-1.43.59L10.3 9.45l-7.72 7.72c-.78.78-.78 2.05 0 2.83L4 21.41c.39.39.9.59 1.41.59.51 0 1.02-.2 1.41-.59l7.78-7.78 2.81-2.81c.8-.78.8-2.07 0-2.86zM5.41 20L4 18.59l7.72-7.72 1.47 1.35L5.41 20z\"/>\n",
              "  </svg>\n",
              "      </button>\n",
              "      \n",
              "  <style>\n",
              "    .colab-df-container {\n",
              "      display:flex;\n",
              "      flex-wrap:wrap;\n",
              "      gap: 12px;\n",
              "    }\n",
              "\n",
              "    .colab-df-convert {\n",
              "      background-color: #E8F0FE;\n",
              "      border: none;\n",
              "      border-radius: 50%;\n",
              "      cursor: pointer;\n",
              "      display: none;\n",
              "      fill: #1967D2;\n",
              "      height: 32px;\n",
              "      padding: 0 0 0 0;\n",
              "      width: 32px;\n",
              "    }\n",
              "\n",
              "    .colab-df-convert:hover {\n",
              "      background-color: #E2EBFA;\n",
              "      box-shadow: 0px 1px 2px rgba(60, 64, 67, 0.3), 0px 1px 3px 1px rgba(60, 64, 67, 0.15);\n",
              "      fill: #174EA6;\n",
              "    }\n",
              "\n",
              "    [theme=dark] .colab-df-convert {\n",
              "      background-color: #3B4455;\n",
              "      fill: #D2E3FC;\n",
              "    }\n",
              "\n",
              "    [theme=dark] .colab-df-convert:hover {\n",
              "      background-color: #434B5C;\n",
              "      box-shadow: 0px 1px 3px 1px rgba(0, 0, 0, 0.15);\n",
              "      filter: drop-shadow(0px 1px 2px rgba(0, 0, 0, 0.3));\n",
              "      fill: #FFFFFF;\n",
              "    }\n",
              "  </style>\n",
              "\n",
              "      <script>\n",
              "        const buttonEl =\n",
              "          document.querySelector('#df-765061cc-9b28-4cdc-8fe9-6f2c9c8a42f7 button.colab-df-convert');\n",
              "        buttonEl.style.display =\n",
              "          google.colab.kernel.accessAllowed ? 'block' : 'none';\n",
              "\n",
              "        async function convertToInteractive(key) {\n",
              "          const element = document.querySelector('#df-765061cc-9b28-4cdc-8fe9-6f2c9c8a42f7');\n",
              "          const dataTable =\n",
              "            await google.colab.kernel.invokeFunction('convertToInteractive',\n",
              "                                                     [key], {});\n",
              "          if (!dataTable) return;\n",
              "\n",
              "          const docLinkHtml = 'Like what you see? Visit the ' +\n",
              "            '<a target=\"_blank\" href=https://colab.research.google.com/notebooks/data_table.ipynb>data table notebook</a>'\n",
              "            + ' to learn more about interactive tables.';\n",
              "          element.innerHTML = '';\n",
              "          dataTable['output_type'] = 'display_data';\n",
              "          await google.colab.output.renderOutput(dataTable, element);\n",
              "          const docLink = document.createElement('div');\n",
              "          docLink.innerHTML = docLinkHtml;\n",
              "          element.appendChild(docLink);\n",
              "        }\n",
              "      </script>\n",
              "    </div>\n",
              "  </div>\n",
              "  "
            ]
          },
          "metadata": {},
          "execution_count": 4
        }
      ]
    },
    {
      "cell_type": "code",
      "source": [
        "\n"
      ],
      "metadata": {
        "id": "oRZjULDKaLCR"
      },
      "execution_count": 4,
      "outputs": []
    },
    {
      "cell_type": "code",
      "source": [
        "from sklearn.preprocessing import MinMaxScaler"
      ],
      "metadata": {
        "id": "HD6Ejf2DvTHf"
      },
      "execution_count": 5,
      "outputs": []
    },
    {
      "cell_type": "code",
      "source": [
        "scaler = MinMaxScaler()"
      ],
      "metadata": {
        "id": "M-n5PCfCvtlc"
      },
      "execution_count": 6,
      "outputs": []
    },
    {
      "cell_type": "markdown",
      "source": [
        "Fitting and transforming the showroom price to be betweeen 0 to 1 "
      ],
      "metadata": {
        "id": "v85neJyMKYY1"
      }
    },
    {
      "cell_type": "code",
      "source": [
        "scaler.fit(inputs[['Showroom_Price']])\n",
        "inputs['Showroom_Price']=scaler.transform(inputs[['Showroom_Price']])"
      ],
      "metadata": {
        "id": "E3Kg6ZIIvxT8"
      },
      "execution_count": 7,
      "outputs": []
    },
    {
      "cell_type": "markdown",
      "source": [
        "Fitting and transforming the City Mileage to be betweeen 0 to 1 "
      ],
      "metadata": {
        "id": "KIykmOr1KliD"
      }
    },
    {
      "cell_type": "code",
      "source": [
        "inputs.drop([304], axis=0, inplace=True)\n",
        "scaler.fit(inputs[['City_Mileage']])\n",
        "inputs['City_Mileage']=scaler.transform(inputs[['City_Mileage']])"
      ],
      "metadata": {
        "id": "L7ee2z5bwFiw"
      },
      "execution_count": 8,
      "outputs": []
    },
    {
      "cell_type": "markdown",
      "source": [
        "Data Types of all the considered columns"
      ],
      "metadata": {
        "id": "72bnseq5KrYB"
      }
    },
    {
      "cell_type": "code",
      "source": [
        "inputs.dtypes"
      ],
      "metadata": {
        "colab": {
          "base_uri": "https://localhost:8080/"
        },
        "id": "5pGsCHjKwTnC",
        "outputId": "f9b8a84f-a064-4c81-c275-9249d8bff5fa"
      },
      "execution_count": 9,
      "outputs": [
        {
          "output_type": "execute_result",
          "data": {
            "text/plain": [
              "Showroom_Price            float64\n",
              "Displacement               object\n",
              "Cylinders                 float64\n",
              "Valves_Per_Cylinder       float64\n",
              "Drivetrain                 object\n",
              "Cylinder_Configuration     object\n",
              "Emission_Norm              object\n",
              "Fuel_Tank_Capacity         object\n",
              "Fuel_Type                  object\n",
              "City_Mileage              float64\n",
              "Kerb_Weight                object\n",
              "Gears                      object\n",
              "dtype: object"
            ]
          },
          "metadata": {},
          "execution_count": 9
        }
      ]
    },
    {
      "cell_type": "code",
      "source": [
        "inputs[['Showroom_Price', 'City_Mileage']] = inputs[['Showroom_Price', 'City_Mileage']].apply(pd.to_numeric)\n"
      ],
      "metadata": {
        "id": "_PsL9Lu0wvCx"
      },
      "execution_count": 10,
      "outputs": []
    },
    {
      "cell_type": "markdown",
      "source": [
        "Removing the values which are Nan and infinity"
      ],
      "metadata": {
        "id": "z3hNS4bFK0U6"
      }
    },
    {
      "cell_type": "code",
      "source": [
        "from sklearn.cluster import KMeans\n",
        "\n",
        "inputs.replace([np.inf, -np.inf], np.nan, inplace=True)\n",
        "# Drop rows with NaN\n",
        "inputs.dropna(inplace=True)\n",
        "inputs"
      ],
      "metadata": {
        "colab": {
          "base_uri": "https://localhost:8080/",
          "height": 641
        },
        "id": "SdEAAXFUyeig",
        "outputId": "8a6caaa0-6619-4dc3-f08a-3d677b3171d3"
      },
      "execution_count": 11,
      "outputs": [
        {
          "output_type": "execute_result",
          "data": {
            "text/plain": [
              "      Showroom_Price Displacement  Cylinders  Valves_Per_Cylinder  \\\n",
              "0           0.000593       624 cc        2.0                  2.0   \n",
              "1           0.000000       624 cc        2.0                  2.0   \n",
              "2           0.000635       624 cc        2.0                  2.0   \n",
              "3           0.001038       624 cc        2.0                  2.0   \n",
              "4           0.000378       624 cc        2.0                  2.0   \n",
              "...              ...          ...        ...                  ...   \n",
              "1271        0.011244      1498 cc        4.0                  4.0   \n",
              "1272        0.012500      1498 cc        4.0                  4.0   \n",
              "1273        0.012606      1497 cc        4.0                  4.0   \n",
              "1274        0.010179      1497 cc        4.0                  4.0   \n",
              "1275        0.069923      3200 cc        4.0                  4.0   \n",
              "\n",
              "                   Drivetrain Cylinder_Configuration Emission_Norm  \\\n",
              "0      RWD (Rear Wheel Drive)                In-line         BS IV   \n",
              "1      RWD (Rear Wheel Drive)                In-line         BS IV   \n",
              "2      RWD (Rear Wheel Drive)                In-line         BS IV   \n",
              "3      RWD (Rear Wheel Drive)                In-line         BS IV   \n",
              "4      RWD (Rear Wheel Drive)                In-line         BS IV   \n",
              "...                       ...                    ...           ...   \n",
              "1271  FWD (Front Wheel Drive)                In-line         BS IV   \n",
              "1272  FWD (Front Wheel Drive)                In-line         BS IV   \n",
              "1273  FWD (Front Wheel Drive)                In-line          BS 6   \n",
              "1274  FWD (Front Wheel Drive)                In-line          BS 6   \n",
              "1275    AWD (All Wheel Drive)                In-line         BS IV   \n",
              "\n",
              "     Fuel_Tank_Capacity Fuel_Type  City_Mileage Kerb_Weight Gears  \n",
              "0             24 litres    Petrol      0.200000      660 kg     4  \n",
              "1             24 litres    Petrol      0.200000      725 kg     4  \n",
              "2             15 litres       CNG      0.200000      710 kg     4  \n",
              "3             24 litres    Petrol      0.200000      725 kg     5  \n",
              "4             24 litres    Petrol      0.200000      725 kg     4  \n",
              "...                 ...       ...           ...         ...   ...  \n",
              "1271          40 litres    Diesel      0.190741     1170 kg     6  \n",
              "1272          40 litres    Diesel      0.190741     1175 kg     6  \n",
              "1273          40 litres    Petrol      0.148148     1107 kg     5  \n",
              "1274          40 litres    Petrol      0.113889     1080 kg     5  \n",
              "1275          88 litres    Diesel      0.057870     2335 kg     5  \n",
              "\n",
              "[478 rows x 12 columns]"
            ],
            "text/html": [
              "\n",
              "  <div id=\"df-175bd78a-5cca-4a50-831f-fcf2d721974f\">\n",
              "    <div class=\"colab-df-container\">\n",
              "      <div>\n",
              "<style scoped>\n",
              "    .dataframe tbody tr th:only-of-type {\n",
              "        vertical-align: middle;\n",
              "    }\n",
              "\n",
              "    .dataframe tbody tr th {\n",
              "        vertical-align: top;\n",
              "    }\n",
              "\n",
              "    .dataframe thead th {\n",
              "        text-align: right;\n",
              "    }\n",
              "</style>\n",
              "<table border=\"1\" class=\"dataframe\">\n",
              "  <thead>\n",
              "    <tr style=\"text-align: right;\">\n",
              "      <th></th>\n",
              "      <th>Showroom_Price</th>\n",
              "      <th>Displacement</th>\n",
              "      <th>Cylinders</th>\n",
              "      <th>Valves_Per_Cylinder</th>\n",
              "      <th>Drivetrain</th>\n",
              "      <th>Cylinder_Configuration</th>\n",
              "      <th>Emission_Norm</th>\n",
              "      <th>Fuel_Tank_Capacity</th>\n",
              "      <th>Fuel_Type</th>\n",
              "      <th>City_Mileage</th>\n",
              "      <th>Kerb_Weight</th>\n",
              "      <th>Gears</th>\n",
              "    </tr>\n",
              "  </thead>\n",
              "  <tbody>\n",
              "    <tr>\n",
              "      <th>0</th>\n",
              "      <td>0.000593</td>\n",
              "      <td>624 cc</td>\n",
              "      <td>2.0</td>\n",
              "      <td>2.0</td>\n",
              "      <td>RWD (Rear Wheel Drive)</td>\n",
              "      <td>In-line</td>\n",
              "      <td>BS IV</td>\n",
              "      <td>24 litres</td>\n",
              "      <td>Petrol</td>\n",
              "      <td>0.200000</td>\n",
              "      <td>660 kg</td>\n",
              "      <td>4</td>\n",
              "    </tr>\n",
              "    <tr>\n",
              "      <th>1</th>\n",
              "      <td>0.000000</td>\n",
              "      <td>624 cc</td>\n",
              "      <td>2.0</td>\n",
              "      <td>2.0</td>\n",
              "      <td>RWD (Rear Wheel Drive)</td>\n",
              "      <td>In-line</td>\n",
              "      <td>BS IV</td>\n",
              "      <td>24 litres</td>\n",
              "      <td>Petrol</td>\n",
              "      <td>0.200000</td>\n",
              "      <td>725 kg</td>\n",
              "      <td>4</td>\n",
              "    </tr>\n",
              "    <tr>\n",
              "      <th>2</th>\n",
              "      <td>0.000635</td>\n",
              "      <td>624 cc</td>\n",
              "      <td>2.0</td>\n",
              "      <td>2.0</td>\n",
              "      <td>RWD (Rear Wheel Drive)</td>\n",
              "      <td>In-line</td>\n",
              "      <td>BS IV</td>\n",
              "      <td>15 litres</td>\n",
              "      <td>CNG</td>\n",
              "      <td>0.200000</td>\n",
              "      <td>710 kg</td>\n",
              "      <td>4</td>\n",
              "    </tr>\n",
              "    <tr>\n",
              "      <th>3</th>\n",
              "      <td>0.001038</td>\n",
              "      <td>624 cc</td>\n",
              "      <td>2.0</td>\n",
              "      <td>2.0</td>\n",
              "      <td>RWD (Rear Wheel Drive)</td>\n",
              "      <td>In-line</td>\n",
              "      <td>BS IV</td>\n",
              "      <td>24 litres</td>\n",
              "      <td>Petrol</td>\n",
              "      <td>0.200000</td>\n",
              "      <td>725 kg</td>\n",
              "      <td>5</td>\n",
              "    </tr>\n",
              "    <tr>\n",
              "      <th>4</th>\n",
              "      <td>0.000378</td>\n",
              "      <td>624 cc</td>\n",
              "      <td>2.0</td>\n",
              "      <td>2.0</td>\n",
              "      <td>RWD (Rear Wheel Drive)</td>\n",
              "      <td>In-line</td>\n",
              "      <td>BS IV</td>\n",
              "      <td>24 litres</td>\n",
              "      <td>Petrol</td>\n",
              "      <td>0.200000</td>\n",
              "      <td>725 kg</td>\n",
              "      <td>4</td>\n",
              "    </tr>\n",
              "    <tr>\n",
              "      <th>...</th>\n",
              "      <td>...</td>\n",
              "      <td>...</td>\n",
              "      <td>...</td>\n",
              "      <td>...</td>\n",
              "      <td>...</td>\n",
              "      <td>...</td>\n",
              "      <td>...</td>\n",
              "      <td>...</td>\n",
              "      <td>...</td>\n",
              "      <td>...</td>\n",
              "      <td>...</td>\n",
              "      <td>...</td>\n",
              "    </tr>\n",
              "    <tr>\n",
              "      <th>1271</th>\n",
              "      <td>0.011244</td>\n",
              "      <td>1498 cc</td>\n",
              "      <td>4.0</td>\n",
              "      <td>4.0</td>\n",
              "      <td>FWD (Front Wheel Drive)</td>\n",
              "      <td>In-line</td>\n",
              "      <td>BS IV</td>\n",
              "      <td>40 litres</td>\n",
              "      <td>Diesel</td>\n",
              "      <td>0.190741</td>\n",
              "      <td>1170 kg</td>\n",
              "      <td>6</td>\n",
              "    </tr>\n",
              "    <tr>\n",
              "      <th>1272</th>\n",
              "      <td>0.012500</td>\n",
              "      <td>1498 cc</td>\n",
              "      <td>4.0</td>\n",
              "      <td>4.0</td>\n",
              "      <td>FWD (Front Wheel Drive)</td>\n",
              "      <td>In-line</td>\n",
              "      <td>BS IV</td>\n",
              "      <td>40 litres</td>\n",
              "      <td>Diesel</td>\n",
              "      <td>0.190741</td>\n",
              "      <td>1175 kg</td>\n",
              "      <td>6</td>\n",
              "    </tr>\n",
              "    <tr>\n",
              "      <th>1273</th>\n",
              "      <td>0.012606</td>\n",
              "      <td>1497 cc</td>\n",
              "      <td>4.0</td>\n",
              "      <td>4.0</td>\n",
              "      <td>FWD (Front Wheel Drive)</td>\n",
              "      <td>In-line</td>\n",
              "      <td>BS 6</td>\n",
              "      <td>40 litres</td>\n",
              "      <td>Petrol</td>\n",
              "      <td>0.148148</td>\n",
              "      <td>1107 kg</td>\n",
              "      <td>5</td>\n",
              "    </tr>\n",
              "    <tr>\n",
              "      <th>1274</th>\n",
              "      <td>0.010179</td>\n",
              "      <td>1497 cc</td>\n",
              "      <td>4.0</td>\n",
              "      <td>4.0</td>\n",
              "      <td>FWD (Front Wheel Drive)</td>\n",
              "      <td>In-line</td>\n",
              "      <td>BS 6</td>\n",
              "      <td>40 litres</td>\n",
              "      <td>Petrol</td>\n",
              "      <td>0.113889</td>\n",
              "      <td>1080 kg</td>\n",
              "      <td>5</td>\n",
              "    </tr>\n",
              "    <tr>\n",
              "      <th>1275</th>\n",
              "      <td>0.069923</td>\n",
              "      <td>3200 cc</td>\n",
              "      <td>4.0</td>\n",
              "      <td>4.0</td>\n",
              "      <td>AWD (All Wheel Drive)</td>\n",
              "      <td>In-line</td>\n",
              "      <td>BS IV</td>\n",
              "      <td>88 litres</td>\n",
              "      <td>Diesel</td>\n",
              "      <td>0.057870</td>\n",
              "      <td>2335 kg</td>\n",
              "      <td>5</td>\n",
              "    </tr>\n",
              "  </tbody>\n",
              "</table>\n",
              "<p>478 rows × 12 columns</p>\n",
              "</div>\n",
              "      <button class=\"colab-df-convert\" onclick=\"convertToInteractive('df-175bd78a-5cca-4a50-831f-fcf2d721974f')\"\n",
              "              title=\"Convert this dataframe to an interactive table.\"\n",
              "              style=\"display:none;\">\n",
              "        \n",
              "  <svg xmlns=\"http://www.w3.org/2000/svg\" height=\"24px\"viewBox=\"0 0 24 24\"\n",
              "       width=\"24px\">\n",
              "    <path d=\"M0 0h24v24H0V0z\" fill=\"none\"/>\n",
              "    <path d=\"M18.56 5.44l.94 2.06.94-2.06 2.06-.94-2.06-.94-.94-2.06-.94 2.06-2.06.94zm-11 1L8.5 8.5l.94-2.06 2.06-.94-2.06-.94L8.5 2.5l-.94 2.06-2.06.94zm10 10l.94 2.06.94-2.06 2.06-.94-2.06-.94-.94-2.06-.94 2.06-2.06.94z\"/><path d=\"M17.41 7.96l-1.37-1.37c-.4-.4-.92-.59-1.43-.59-.52 0-1.04.2-1.43.59L10.3 9.45l-7.72 7.72c-.78.78-.78 2.05 0 2.83L4 21.41c.39.39.9.59 1.41.59.51 0 1.02-.2 1.41-.59l7.78-7.78 2.81-2.81c.8-.78.8-2.07 0-2.86zM5.41 20L4 18.59l7.72-7.72 1.47 1.35L5.41 20z\"/>\n",
              "  </svg>\n",
              "      </button>\n",
              "      \n",
              "  <style>\n",
              "    .colab-df-container {\n",
              "      display:flex;\n",
              "      flex-wrap:wrap;\n",
              "      gap: 12px;\n",
              "    }\n",
              "\n",
              "    .colab-df-convert {\n",
              "      background-color: #E8F0FE;\n",
              "      border: none;\n",
              "      border-radius: 50%;\n",
              "      cursor: pointer;\n",
              "      display: none;\n",
              "      fill: #1967D2;\n",
              "      height: 32px;\n",
              "      padding: 0 0 0 0;\n",
              "      width: 32px;\n",
              "    }\n",
              "\n",
              "    .colab-df-convert:hover {\n",
              "      background-color: #E2EBFA;\n",
              "      box-shadow: 0px 1px 2px rgba(60, 64, 67, 0.3), 0px 1px 3px 1px rgba(60, 64, 67, 0.15);\n",
              "      fill: #174EA6;\n",
              "    }\n",
              "\n",
              "    [theme=dark] .colab-df-convert {\n",
              "      background-color: #3B4455;\n",
              "      fill: #D2E3FC;\n",
              "    }\n",
              "\n",
              "    [theme=dark] .colab-df-convert:hover {\n",
              "      background-color: #434B5C;\n",
              "      box-shadow: 0px 1px 3px 1px rgba(0, 0, 0, 0.15);\n",
              "      filter: drop-shadow(0px 1px 2px rgba(0, 0, 0, 0.3));\n",
              "      fill: #FFFFFF;\n",
              "    }\n",
              "  </style>\n",
              "\n",
              "      <script>\n",
              "        const buttonEl =\n",
              "          document.querySelector('#df-175bd78a-5cca-4a50-831f-fcf2d721974f button.colab-df-convert');\n",
              "        buttonEl.style.display =\n",
              "          google.colab.kernel.accessAllowed ? 'block' : 'none';\n",
              "\n",
              "        async function convertToInteractive(key) {\n",
              "          const element = document.querySelector('#df-175bd78a-5cca-4a50-831f-fcf2d721974f');\n",
              "          const dataTable =\n",
              "            await google.colab.kernel.invokeFunction('convertToInteractive',\n",
              "                                                     [key], {});\n",
              "          if (!dataTable) return;\n",
              "\n",
              "          const docLinkHtml = 'Like what you see? Visit the ' +\n",
              "            '<a target=\"_blank\" href=https://colab.research.google.com/notebooks/data_table.ipynb>data table notebook</a>'\n",
              "            + ' to learn more about interactive tables.';\n",
              "          element.innerHTML = '';\n",
              "          dataTable['output_type'] = 'display_data';\n",
              "          await google.colab.output.renderOutput(dataTable, element);\n",
              "          const docLink = document.createElement('div');\n",
              "          docLink.innerHTML = docLinkHtml;\n",
              "          element.appendChild(docLink);\n",
              "        }\n",
              "      </script>\n",
              "    </div>\n",
              "  </div>\n",
              "  "
            ]
          },
          "metadata": {},
          "execution_count": 11
        }
      ]
    },
    {
      "cell_type": "markdown",
      "source": [
        "Dividing the data in two clusters like categorising them to same values according to values"
      ],
      "metadata": {
        "id": "KhjytFexLEx8"
      }
    },
    {
      "cell_type": "code",
      "source": [
        "km = KMeans(n_clusters=2)\n",
        "y_predicted = km.fit_predict(inputs[['Showroom_Price', 'City_Mileage']])\n",
        "inputs['cluster'] = y_predicted\n"
      ],
      "metadata": {
        "id": "HNAliw761kQ-"
      },
      "execution_count": 12,
      "outputs": []
    },
    {
      "cell_type": "code",
      "source": [
        "df1 = inputs[inputs.cluster==0]\n",
        "df2 = inputs[inputs.cluster==1]\n",
        "plt.scatter(df1.Showroom_Price,df1.City_Mileage,color ='green')\n",
        "plt.scatter(df2.Showroom_Price,df2.City_Mileage,color ='red')\n",
        "\n",
        "plt.legend()"
      ],
      "metadata": {
        "colab": {
          "base_uri": "https://localhost:8080/",
          "height": 300
        },
        "id": "suyoOJDA12DN",
        "outputId": "51351131-4b0b-4e48-fa4e-f38124cdb9a6"
      },
      "execution_count": 13,
      "outputs": [
        {
          "output_type": "stream",
          "name": "stderr",
          "text": [
            "WARNING:matplotlib.legend:No handles with labels found to put in legend.\n"
          ]
        },
        {
          "output_type": "execute_result",
          "data": {
            "text/plain": [
              "<matplotlib.legend.Legend at 0x7ffa5d226990>"
            ]
          },
          "metadata": {},
          "execution_count": 13
        },
        {
          "output_type": "display_data",
          "data": {
            "text/plain": [
              "<Figure size 432x288 with 1 Axes>"
            ],
            "image/png": "[encoded data removed]"
          },
          "metadata": {
            "needs_background": "light"
          }
        }
      ]
    },
    {
      "cell_type": "markdown",
      "source": [
        "Checking for various k the value of sum of squared error"
      ],
      "metadata": {
        "id": "1iwGNOlvLZBa"
      }
    },
    {
      "cell_type": "code",
      "source": [
        "k_rng = range(1,20)\n",
        "sse=[]\n",
        "for k in k_rng:\n",
        "  km = KMeans(n_clusters=k)\n",
        "  km.fit(inputs[['Showroom_Price', 'City_Mileage']])\n",
        "  sse.append(km.inertia_)"
      ],
      "metadata": {
        "id": "jw-guAbg4o0U"
      },
      "execution_count": 14,
      "outputs": []
    },
    {
      "cell_type": "markdown",
      "source": [
        "values of squared error which decreses with increase in k"
      ],
      "metadata": {
        "id": "tSGKEfWRLk3J"
      }
    },
    {
      "cell_type": "code",
      "source": [
        "sse"
      ],
      "metadata": {
        "colab": {
          "base_uri": "https://localhost:8080/"
        },
        "id": "V9da4Ceg5x3z",
        "outputId": "1b95e149-bd53-475a-f152-e963b7488db6"
      },
      "execution_count": 15,
      "outputs": [
        {
          "output_type": "execute_result",
          "data": {
            "text/plain": [
              "[9.011412269631148,\n",
              " 2.7381211224880513,\n",
              " 1.8884936654008144,\n",
              " 1.1785424828180202,\n",
              " 0.6203701192524353,\n",
              " 0.47114091785088247,\n",
              " 0.3716927169203739,\n",
              " 0.28058361578186397,\n",
              " 0.23085092007058583,\n",
              " 0.20865416290551453,\n",
              " 0.1887338565092727,\n",
              " 0.17264021461615425,\n",
              " 0.15456038098881966,\n",
              " 0.13584686702656049,\n",
              " 0.12201200232312114,\n",
              " 0.1147211635880257,\n",
              " 0.1032843266179414,\n",
              " 0.09287753177320379,\n",
              " 0.08535101333010237]"
            ]
          },
          "metadata": {},
          "execution_count": 15
        }
      ]
    },
    {
      "cell_type": "markdown",
      "source": [
        "Graph of sum of squared error with values of k "
      ],
      "metadata": {
        "id": "9Re7Fp0-LtXn"
      }
    },
    {
      "cell_type": "code",
      "source": [
        "plt.xlabel('k')\n",
        "plt.ylabel('Sum of Squared error')\n",
        "plt.plot(k_rng,sse)"
      ],
      "metadata": {
        "colab": {
          "base_uri": "https://localhost:8080/",
          "height": 296
        },
        "id": "NGZRFWm250Sr",
        "outputId": "6eddac77-2abb-4f18-87ae-054542e9b10e"
      },
      "execution_count": 16,
      "outputs": [
        {
          "output_type": "execute_result",
          "data": {
            "text/plain": [
              "[<matplotlib.lines.Line2D at 0x7ffa5c4c7850>]"
            ]
          },
          "metadata": {},
          "execution_count": 16
        },
        {
          "output_type": "display_data",
          "data": {
            "text/plain": [
              "<Figure size 432x288 with 1 Axes>"
            ],
            "image/png": "[encoded data removed]"
          },
          "metadata": {
            "needs_background": "light"
          }
        }
      ]
    },
    {
      "cell_type": "code",
      "source": [
        "\n",
        "# ! pip install pydataset"
      ],
      "metadata": {
        "id": "KIuDHcXk54ZL"
      },
      "execution_count": 17,
      "outputs": []
    },
    {
      "cell_type": "code",
      "source": [
        "from pydataset import data\n",
        "import numpy as np\n",
        "from sklearn.linear_model import LinearRegression\n",
        "from sklearn.model_selection import train_test_split"
      ],
      "metadata": {
        "id": "lOA1Jb0V7C56"
      },
      "execution_count": 18,
      "outputs": []
    },
    {
      "cell_type": "code",
      "source": [
        "%matplotlib notebook"
      ],
      "metadata": {
        "id": "RixzA5RH7Yha"
      },
      "execution_count": 19,
      "outputs": []
    },
    {
      "cell_type": "code",
      "source": [
        "\n",
        "input = inputs\n",
        "\n",
        "inputs = inputs[['Showroom_Price','City_Mileage']]\n",
        "\n"
      ],
      "metadata": {
        "id": "HgaWbBbX7tH5"
      },
      "execution_count": 20,
      "outputs": []
    },
    {
      "cell_type": "code",
      "source": [
        "inputs"
      ],
      "metadata": {
        "colab": {
          "base_uri": "https://localhost:8080/",
          "height": 424
        },
        "id": "dC15eTKv76B5",
        "outputId": "ab871b49-5cfd-4e49-e603-351631ed1c03"
      },
      "execution_count": 21,
      "outputs": [
        {
          "output_type": "execute_result",
          "data": {
            "text/plain": [
              "      Showroom_Price  City_Mileage\n",
              "0           0.000593      0.200000\n",
              "1           0.000000      0.200000\n",
              "2           0.000635      0.200000\n",
              "3           0.001038      0.200000\n",
              "4           0.000378      0.200000\n",
              "...              ...           ...\n",
              "1271        0.011244      0.190741\n",
              "1272        0.012500      0.190741\n",
              "1273        0.012606      0.148148\n",
              "1274        0.010179      0.113889\n",
              "1275        0.069923      0.057870\n",
              "\n",
              "[478 rows x 2 columns]"
            ],
            "text/html": [
              "\n",
              "  <div id=\"df-eb79bf72-fde5-4516-9249-76b4726bab07\">\n",
              "    <div class=\"colab-df-container\">\n",
              "      <div>\n",
              "<style scoped>\n",
              "    .dataframe tbody tr th:only-of-type {\n",
              "        vertical-align: middle;\n",
              "    }\n",
              "\n",
              "    .dataframe tbody tr th {\n",
              "        vertical-align: top;\n",
              "    }\n",
              "\n",
              "    .dataframe thead th {\n",
              "        text-align: right;\n",
              "    }\n",
              "</style>\n",
              "<table border=\"1\" class=\"dataframe\">\n",
              "  <thead>\n",
              "    <tr style=\"text-align: right;\">\n",
              "      <th></th>\n",
              "      <th>Showroom_Price</th>\n",
              "      <th>City_Mileage</th>\n",
              "    </tr>\n",
              "  </thead>\n",
              "  <tbody>\n",
              "    <tr>\n",
              "      <th>0</th>\n",
              "      <td>0.000593</td>\n",
              "      <td>0.200000</td>\n",
              "    </tr>\n",
              "    <tr>\n",
              "      <th>1</th>\n",
              "      <td>0.000000</td>\n",
              "      <td>0.200000</td>\n",
              "    </tr>\n",
              "    <tr>\n",
              "      <th>2</th>\n",
              "      <td>0.000635</td>\n",
              "      <td>0.200000</td>\n",
              "    </tr>\n",
              "    <tr>\n",
              "      <th>3</th>\n",
              "      <td>0.001038</td>\n",
              "      <td>0.200000</td>\n",
              "    </tr>\n",
              "    <tr>\n",
              "      <th>4</th>\n",
              "      <td>0.000378</td>\n",
              "      <td>0.200000</td>\n",
              "    </tr>\n",
              "    <tr>\n",
              "      <th>...</th>\n",
              "      <td>...</td>\n",
              "      <td>...</td>\n",
              "    </tr>\n",
              "    <tr>\n",
              "      <th>1271</th>\n",
              "      <td>0.011244</td>\n",
              "      <td>0.190741</td>\n",
              "    </tr>\n",
              "    <tr>\n",
              "      <th>1272</th>\n",
              "      <td>0.012500</td>\n",
              "      <td>0.190741</td>\n",
              "    </tr>\n",
              "    <tr>\n",
              "      <th>1273</th>\n",
              "      <td>0.012606</td>\n",
              "      <td>0.148148</td>\n",
              "    </tr>\n",
              "    <tr>\n",
              "      <th>1274</th>\n",
              "      <td>0.010179</td>\n",
              "      <td>0.113889</td>\n",
              "    </tr>\n",
              "    <tr>\n",
              "      <th>1275</th>\n",
              "      <td>0.069923</td>\n",
              "      <td>0.057870</td>\n",
              "    </tr>\n",
              "  </tbody>\n",
              "</table>\n",
              "<p>478 rows × 2 columns</p>\n",
              "</div>\n",
              "      <button class=\"colab-df-convert\" onclick=\"convertToInteractive('df-eb79bf72-fde5-4516-9249-76b4726bab07')\"\n",
              "              title=\"Convert this dataframe to an interactive table.\"\n",
              "              style=\"display:none;\">\n",
              "        \n",
              "  <svg xmlns=\"http://www.w3.org/2000/svg\" height=\"24px\"viewBox=\"0 0 24 24\"\n",
              "       width=\"24px\">\n",
              "    <path d=\"M0 0h24v24H0V0z\" fill=\"none\"/>\n",
              "    <path d=\"M18.56 5.44l.94 2.06.94-2.06 2.06-.94-2.06-.94-.94-2.06-.94 2.06-2.06.94zm-11 1L8.5 8.5l.94-2.06 2.06-.94-2.06-.94L8.5 2.5l-.94 2.06-2.06.94zm10 10l.94 2.06.94-2.06 2.06-.94-2.06-.94-.94-2.06-.94 2.06-2.06.94z\"/><path d=\"M17.41 7.96l-1.37-1.37c-.4-.4-.92-.59-1.43-.59-.52 0-1.04.2-1.43.59L10.3 9.45l-7.72 7.72c-.78.78-.78 2.05 0 2.83L4 21.41c.39.39.9.59 1.41.59.51 0 1.02-.2 1.41-.59l7.78-7.78 2.81-2.81c.8-.78.8-2.07 0-2.86zM5.41 20L4 18.59l7.72-7.72 1.47 1.35L5.41 20z\"/>\n",
              "  </svg>\n",
              "      </button>\n",
              "      \n",
              "  <style>\n",
              "    .colab-df-container {\n",
              "      display:flex;\n",
              "      flex-wrap:wrap;\n",
              "      gap: 12px;\n",
              "    }\n",
              "\n",
              "    .colab-df-convert {\n",
              "      background-color: #E8F0FE;\n",
              "      border: none;\n",
              "      border-radius: 50%;\n",
              "      cursor: pointer;\n",
              "      display: none;\n",
              "      fill: #1967D2;\n",
              "      height: 32px;\n",
              "      padding: 0 0 0 0;\n",
              "      width: 32px;\n",
              "    }\n",
              "\n",
              "    .colab-df-convert:hover {\n",
              "      background-color: #E2EBFA;\n",
              "      box-shadow: 0px 1px 2px rgba(60, 64, 67, 0.3), 0px 1px 3px 1px rgba(60, 64, 67, 0.15);\n",
              "      fill: #174EA6;\n",
              "    }\n",
              "\n",
              "    [theme=dark] .colab-df-convert {\n",
              "      background-color: #3B4455;\n",
              "      fill: #D2E3FC;\n",
              "    }\n",
              "\n",
              "    [theme=dark] .colab-df-convert:hover {\n",
              "      background-color: #434B5C;\n",
              "      box-shadow: 0px 1px 3px 1px rgba(0, 0, 0, 0.15);\n",
              "      filter: drop-shadow(0px 1px 2px rgba(0, 0, 0, 0.3));\n",
              "      fill: #FFFFFF;\n",
              "    }\n",
              "  </style>\n",
              "\n",
              "      <script>\n",
              "        const buttonEl =\n",
              "          document.querySelector('#df-eb79bf72-fde5-4516-9249-76b4726bab07 button.colab-df-convert');\n",
              "        buttonEl.style.display =\n",
              "          google.colab.kernel.accessAllowed ? 'block' : 'none';\n",
              "\n",
              "        async function convertToInteractive(key) {\n",
              "          const element = document.querySelector('#df-eb79bf72-fde5-4516-9249-76b4726bab07');\n",
              "          const dataTable =\n",
              "            await google.colab.kernel.invokeFunction('convertToInteractive',\n",
              "                                                     [key], {});\n",
              "          if (!dataTable) return;\n",
              "\n",
              "          const docLinkHtml = 'Like what you see? Visit the ' +\n",
              "            '<a target=\"_blank\" href=https://colab.research.google.com/notebooks/data_table.ipynb>data table notebook</a>'\n",
              "            + ' to learn more about interactive tables.';\n",
              "          element.innerHTML = '';\n",
              "          dataTable['output_type'] = 'display_data';\n",
              "          await google.colab.output.renderOutput(dataTable, element);\n",
              "          const docLink = document.createElement('div');\n",
              "          docLink.innerHTML = docLinkHtml;\n",
              "          element.appendChild(docLink);\n",
              "        }\n",
              "      </script>\n",
              "    </div>\n",
              "  </div>\n",
              "  "
            ]
          },
          "metadata": {},
          "execution_count": 21
        }
      ]
    },
    {
      "cell_type": "markdown",
      "source": [
        "determing the max threshold according to the quantile taken"
      ],
      "metadata": {
        "id": "PrI8Hvi_L6eo"
      }
    },
    {
      "cell_type": "code",
      "source": [
        "max_thresold = inputs['Showroom_Price'].quantile(0.96)\n",
        "max_thresold"
      ],
      "metadata": {
        "colab": {
          "base_uri": "https://localhost:8080/"
        },
        "id": "A_2JK8K88nNs",
        "outputId": "6cdf83ff-2c3d-42a0-afd8-5f4f976a1bd2"
      },
      "execution_count": 22,
      "outputs": [
        {
          "output_type": "execute_result",
          "data": {
            "text/plain": [
              "0.390975730088972"
            ]
          },
          "metadata": {},
          "execution_count": 22
        }
      ]
    },
    {
      "cell_type": "code",
      "source": [
        "inputs[inputs['Showroom_Price']>max_thresold]"
      ],
      "metadata": {
        "colab": {
          "base_uri": "https://localhost:8080/",
          "height": 676
        },
        "id": "TVFc6B7HDEPs",
        "outputId": "efb97e0c-56f3-4409-be58-951e6080337f"
      },
      "execution_count": 23,
      "outputs": [
        {
          "output_type": "execute_result",
          "data": {
            "text/plain": [
              "      Showroom_Price  City_Mileage\n",
              "345         0.482307      0.070370\n",
              "348         0.446322      0.037037\n",
              "349         0.490413      0.078704\n",
              "351         0.525407      0.025000\n",
              "352         0.552268      0.038889\n",
              "354         0.813353      0.075926\n",
              "866         0.394431      0.033333\n",
              "868         0.427448      0.033333\n",
              "869         0.391116      0.033333\n",
              "873         0.412428      0.011111\n",
              "876         0.502910      0.009259\n",
              "877         0.559011      0.014815\n",
              "878         0.498412      0.014815\n",
              "879         0.622389      0.054630\n",
              "880         0.881340      0.022037\n",
              "1057        0.407429      0.065741\n",
              "1172        0.455144      0.011111\n",
              "1219        1.000000      0.075926\n",
              "1220        0.793169      0.075926\n",
              "1264        0.413087      0.000000"
            ],
            "text/html": [
              "\n",
              "  <div id=\"df-ff46c619-1c04-4dad-8f5b-51fe1e143186\">\n",
              "    <div class=\"colab-df-container\">\n",
              "      <div>\n",
              "<style scoped>\n",
              "    .dataframe tbody tr th:only-of-type {\n",
              "        vertical-align: middle;\n",
              "    }\n",
              "\n",
              "    .dataframe tbody tr th {\n",
              "        vertical-align: top;\n",
              "    }\n",
              "\n",
              "    .dataframe thead th {\n",
              "        text-align: right;\n",
              "    }\n",
              "</style>\n",
              "<table border=\"1\" class=\"dataframe\">\n",
              "  <thead>\n",
              "    <tr style=\"text-align: right;\">\n",
              "      <th></th>\n",
              "      <th>Showroom_Price</th>\n",
              "      <th>City_Mileage</th>\n",
              "    </tr>\n",
              "  </thead>\n",
              "  <tbody>\n",
              "    <tr>\n",
              "      <th>345</th>\n",
              "      <td>0.482307</td>\n",
              "      <td>0.070370</td>\n",
              "    </tr>\n",
              "    <tr>\n",
              "      <th>348</th>\n",
              "      <td>0.446322</td>\n",
              "      <td>0.037037</td>\n",
              "    </tr>\n",
              "    <tr>\n",
              "      <th>349</th>\n",
              "      <td>0.490413</td>\n",
              "      <td>0.078704</td>\n",
              "    </tr>\n",
              "    <tr>\n",
              "      <th>351</th>\n",
              "      <td>0.525407</td>\n",
              "      <td>0.025000</td>\n",
              "    </tr>\n",
              "    <tr>\n",
              "      <th>352</th>\n",
              "      <td>0.552268</td>\n",
              "      <td>0.038889</td>\n",
              "    </tr>\n",
              "    <tr>\n",
              "      <th>354</th>\n",
              "      <td>0.813353</td>\n",
              "      <td>0.075926</td>\n",
              "    </tr>\n",
              "    <tr>\n",
              "      <th>866</th>\n",
              "      <td>0.394431</td>\n",
              "      <td>0.033333</td>\n",
              "    </tr>\n",
              "    <tr>\n",
              "      <th>868</th>\n",
              "      <td>0.427448</td>\n",
              "      <td>0.033333</td>\n",
              "    </tr>\n",
              "    <tr>\n",
              "      <th>869</th>\n",
              "      <td>0.391116</td>\n",
              "      <td>0.033333</td>\n",
              "    </tr>\n",
              "    <tr>\n",
              "      <th>873</th>\n",
              "      <td>0.412428</td>\n",
              "      <td>0.011111</td>\n",
              "    </tr>\n",
              "    <tr>\n",
              "      <th>876</th>\n",
              "      <td>0.502910</td>\n",
              "      <td>0.009259</td>\n",
              "    </tr>\n",
              "    <tr>\n",
              "      <th>877</th>\n",
              "      <td>0.559011</td>\n",
              "      <td>0.014815</td>\n",
              "    </tr>\n",
              "    <tr>\n",
              "      <th>878</th>\n",
              "      <td>0.498412</td>\n",
              "      <td>0.014815</td>\n",
              "    </tr>\n",
              "    <tr>\n",
              "      <th>879</th>\n",
              "      <td>0.622389</td>\n",
              "      <td>0.054630</td>\n",
              "    </tr>\n",
              "    <tr>\n",
              "      <th>880</th>\n",
              "      <td>0.881340</td>\n",
              "      <td>0.022037</td>\n",
              "    </tr>\n",
              "    <tr>\n",
              "      <th>1057</th>\n",
              "      <td>0.407429</td>\n",
              "      <td>0.065741</td>\n",
              "    </tr>\n",
              "    <tr>\n",
              "      <th>1172</th>\n",
              "      <td>0.455144</td>\n",
              "      <td>0.011111</td>\n",
              "    </tr>\n",
              "    <tr>\n",
              "      <th>1219</th>\n",
              "      <td>1.000000</td>\n",
              "      <td>0.075926</td>\n",
              "    </tr>\n",
              "    <tr>\n",
              "      <th>1220</th>\n",
              "      <td>0.793169</td>\n",
              "      <td>0.075926</td>\n",
              "    </tr>\n",
              "    <tr>\n",
              "      <th>1264</th>\n",
              "      <td>0.413087</td>\n",
              "      <td>0.000000</td>\n",
              "    </tr>\n",
              "  </tbody>\n",
              "</table>\n",
              "</div>\n",
              "      <button class=\"colab-df-convert\" onclick=\"convertToInteractive('df-ff46c619-1c04-4dad-8f5b-51fe1e143186')\"\n",
              "              title=\"Convert this dataframe to an interactive table.\"\n",
              "              style=\"display:none;\">\n",
              "        \n",
              "  <svg xmlns=\"http://www.w3.org/2000/svg\" height=\"24px\"viewBox=\"0 0 24 24\"\n",
              "       width=\"24px\">\n",
              "    <path d=\"M0 0h24v24H0V0z\" fill=\"none\"/>\n",
              "    <path d=\"M18.56 5.44l.94 2.06.94-2.06 2.06-.94-2.06-.94-.94-2.06-.94 2.06-2.06.94zm-11 1L8.5 8.5l.94-2.06 2.06-.94-2.06-.94L8.5 2.5l-.94 2.06-2.06.94zm10 10l.94 2.06.94-2.06 2.06-.94-2.06-.94-.94-2.06-.94 2.06-2.06.94z\"/><path d=\"M17.41 7.96l-1.37-1.37c-.4-.4-.92-.59-1.43-.59-.52 0-1.04.2-1.43.59L10.3 9.45l-7.72 7.72c-.78.78-.78 2.05 0 2.83L4 21.41c.39.39.9.59 1.41.59.51 0 1.02-.2 1.41-.59l7.78-7.78 2.81-2.81c.8-.78.8-2.07 0-2.86zM5.41 20L4 18.59l7.72-7.72 1.47 1.35L5.41 20z\"/>\n",
              "  </svg>\n",
              "      </button>\n",
              "      \n",
              "  <style>\n",
              "    .colab-df-container {\n",
              "      display:flex;\n",
              "      flex-wrap:wrap;\n",
              "      gap: 12px;\n",
              "    }\n",
              "\n",
              "    .colab-df-convert {\n",
              "      background-color: #E8F0FE;\n",
              "      border: none;\n",
              "      border-radius: 50%;\n",
              "      cursor: pointer;\n",
              "      display: none;\n",
              "      fill: #1967D2;\n",
              "      height: 32px;\n",
              "      padding: 0 0 0 0;\n",
              "      width: 32px;\n",
              "    }\n",
              "\n",
              "    .colab-df-convert:hover {\n",
              "      background-color: #E2EBFA;\n",
              "      box-shadow: 0px 1px 2px rgba(60, 64, 67, 0.3), 0px 1px 3px 1px rgba(60, 64, 67, 0.15);\n",
              "      fill: #174EA6;\n",
              "    }\n",
              "\n",
              "    [theme=dark] .colab-df-convert {\n",
              "      background-color: #3B4455;\n",
              "      fill: #D2E3FC;\n",
              "    }\n",
              "\n",
              "    [theme=dark] .colab-df-convert:hover {\n",
              "      background-color: #434B5C;\n",
              "      box-shadow: 0px 1px 3px 1px rgba(0, 0, 0, 0.15);\n",
              "      filter: drop-shadow(0px 1px 2px rgba(0, 0, 0, 0.3));\n",
              "      fill: #FFFFFF;\n",
              "    }\n",
              "  </style>\n",
              "\n",
              "      <script>\n",
              "        const buttonEl =\n",
              "          document.querySelector('#df-ff46c619-1c04-4dad-8f5b-51fe1e143186 button.colab-df-convert');\n",
              "        buttonEl.style.display =\n",
              "          google.colab.kernel.accessAllowed ? 'block' : 'none';\n",
              "\n",
              "        async function convertToInteractive(key) {\n",
              "          const element = document.querySelector('#df-ff46c619-1c04-4dad-8f5b-51fe1e143186');\n",
              "          const dataTable =\n",
              "            await google.colab.kernel.invokeFunction('convertToInteractive',\n",
              "                                                     [key], {});\n",
              "          if (!dataTable) return;\n",
              "\n",
              "          const docLinkHtml = 'Like what you see? Visit the ' +\n",
              "            '<a target=\"_blank\" href=https://colab.research.google.com/notebooks/data_table.ipynb>data table notebook</a>'\n",
              "            + ' to learn more about interactive tables.';\n",
              "          element.innerHTML = '';\n",
              "          dataTable['output_type'] = 'display_data';\n",
              "          await google.colab.output.renderOutput(dataTable, element);\n",
              "          const docLink = document.createElement('div');\n",
              "          docLink.innerHTML = docLinkHtml;\n",
              "          element.appendChild(docLink);\n",
              "        }\n",
              "      </script>\n",
              "    </div>\n",
              "  </div>\n",
              "  "
            ]
          },
          "metadata": {},
          "execution_count": 23
        }
      ]
    },
    {
      "cell_type": "markdown",
      "source": [
        "determing the max threshold according to the quantile taken"
      ],
      "metadata": {
        "id": "ltlvN8RwMHzY"
      }
    },
    {
      "cell_type": "code",
      "source": [
        "min_thresold = inputs['Showroom_Price'].quantile(0.04)\n",
        "min_thresold"
      ],
      "metadata": {
        "colab": {
          "base_uri": "https://localhost:8080/"
        },
        "id": "dWr7pAMBFzsr",
        "outputId": "f1ee3ec0-8c20-4441-a66a-28fd7ff53dac"
      },
      "execution_count": 24,
      "outputs": [
        {
          "output_type": "execute_result",
          "data": {
            "text/plain": [
              "0.0018073948746940717"
            ]
          },
          "metadata": {},
          "execution_count": 24
        }
      ]
    },
    {
      "cell_type": "code",
      "source": [
        "inputs[inputs['Showroom_Price']<min_thresold]"
      ],
      "metadata": {
        "colab": {
          "base_uri": "https://localhost:8080/",
          "height": 676
        },
        "id": "Teknz290GLTT",
        "outputId": "6399ea34-52ff-418f-812b-d214e8d83486"
      },
      "execution_count": 25,
      "outputs": [
        {
          "output_type": "execute_result",
          "data": {
            "text/plain": [
              "      Showroom_Price  City_Mileage\n",
              "0           0.000593      0.200000\n",
              "1           0.000000      0.200000\n",
              "2           0.000635      0.200000\n",
              "3           0.001038      0.200000\n",
              "4           0.000378      0.200000\n",
              "5           0.000827      0.200000\n",
              "12          0.001233      0.214537\n",
              "13          0.000494      0.214537\n",
              "14          0.001550      0.214537\n",
              "24          0.001221      0.092593\n",
              "25          0.001521      0.092593\n",
              "26          0.001652      0.083333\n",
              "29          0.001489      0.111111\n",
              "30          0.001663      0.111111\n",
              "31          0.001313      0.157407\n",
              "32          0.001802      0.111111\n",
              "881         0.000489      0.101852\n",
              "882         0.000507      0.101852\n",
              "1059        0.001243      0.148148\n",
              "1060        0.001267      0.148148"
            ],
            "text/html": [
              "\n",
              "  <div id=\"df-71236903-83ac-4d76-87e5-7a5a2a3585ba\">\n",
              "    <div class=\"colab-df-container\">\n",
              "      <div>\n",
              "<style scoped>\n",
              "    .dataframe tbody tr th:only-of-type {\n",
              "        vertical-align: middle;\n",
              "    }\n",
              "\n",
              "    .dataframe tbody tr th {\n",
              "        vertical-align: top;\n",
              "    }\n",
              "\n",
              "    .dataframe thead th {\n",
              "        text-align: right;\n",
              "    }\n",
              "</style>\n",
              "<table border=\"1\" class=\"dataframe\">\n",
              "  <thead>\n",
              "    <tr style=\"text-align: right;\">\n",
              "      <th></th>\n",
              "      <th>Showroom_Price</th>\n",
              "      <th>City_Mileage</th>\n",
              "    </tr>\n",
              "  </thead>\n",
              "  <tbody>\n",
              "    <tr>\n",
              "      <th>0</th>\n",
              "      <td>0.000593</td>\n",
              "      <td>0.200000</td>\n",
              "    </tr>\n",
              "    <tr>\n",
              "      <th>1</th>\n",
              "      <td>0.000000</td>\n",
              "      <td>0.200000</td>\n",
              "    </tr>\n",
              "    <tr>\n",
              "      <th>2</th>\n",
              "      <td>0.000635</td>\n",
              "      <td>0.200000</td>\n",
              "    </tr>\n",
              "    <tr>\n",
              "      <th>3</th>\n",
              "      <td>0.001038</td>\n",
              "      <td>0.200000</td>\n",
              "    </tr>\n",
              "    <tr>\n",
              "      <th>4</th>\n",
              "      <td>0.000378</td>\n",
              "      <td>0.200000</td>\n",
              "    </tr>\n",
              "    <tr>\n",
              "      <th>5</th>\n",
              "      <td>0.000827</td>\n",
              "      <td>0.200000</td>\n",
              "    </tr>\n",
              "    <tr>\n",
              "      <th>12</th>\n",
              "      <td>0.001233</td>\n",
              "      <td>0.214537</td>\n",
              "    </tr>\n",
              "    <tr>\n",
              "      <th>13</th>\n",
              "      <td>0.000494</td>\n",
              "      <td>0.214537</td>\n",
              "    </tr>\n",
              "    <tr>\n",
              "      <th>14</th>\n",
              "      <td>0.001550</td>\n",
              "      <td>0.214537</td>\n",
              "    </tr>\n",
              "    <tr>\n",
              "      <th>24</th>\n",
              "      <td>0.001221</td>\n",
              "      <td>0.092593</td>\n",
              "    </tr>\n",
              "    <tr>\n",
              "      <th>25</th>\n",
              "      <td>0.001521</td>\n",
              "      <td>0.092593</td>\n",
              "    </tr>\n",
              "    <tr>\n",
              "      <th>26</th>\n",
              "      <td>0.001652</td>\n",
              "      <td>0.083333</td>\n",
              "    </tr>\n",
              "    <tr>\n",
              "      <th>29</th>\n",
              "      <td>0.001489</td>\n",
              "      <td>0.111111</td>\n",
              "    </tr>\n",
              "    <tr>\n",
              "      <th>30</th>\n",
              "      <td>0.001663</td>\n",
              "      <td>0.111111</td>\n",
              "    </tr>\n",
              "    <tr>\n",
              "      <th>31</th>\n",
              "      <td>0.001313</td>\n",
              "      <td>0.157407</td>\n",
              "    </tr>\n",
              "    <tr>\n",
              "      <th>32</th>\n",
              "      <td>0.001802</td>\n",
              "      <td>0.111111</td>\n",
              "    </tr>\n",
              "    <tr>\n",
              "      <th>881</th>\n",
              "      <td>0.000489</td>\n",
              "      <td>0.101852</td>\n",
              "    </tr>\n",
              "    <tr>\n",
              "      <th>882</th>\n",
              "      <td>0.000507</td>\n",
              "      <td>0.101852</td>\n",
              "    </tr>\n",
              "    <tr>\n",
              "      <th>1059</th>\n",
              "      <td>0.001243</td>\n",
              "      <td>0.148148</td>\n",
              "    </tr>\n",
              "    <tr>\n",
              "      <th>1060</th>\n",
              "      <td>0.001267</td>\n",
              "      <td>0.148148</td>\n",
              "    </tr>\n",
              "  </tbody>\n",
              "</table>\n",
              "</div>\n",
              "      <button class=\"colab-df-convert\" onclick=\"convertToInteractive('df-71236903-83ac-4d76-87e5-7a5a2a3585ba')\"\n",
              "              title=\"Convert this dataframe to an interactive table.\"\n",
              "              style=\"display:none;\">\n",
              "        \n",
              "  <svg xmlns=\"http://www.w3.org/2000/svg\" height=\"24px\"viewBox=\"0 0 24 24\"\n",
              "       width=\"24px\">\n",
              "    <path d=\"M0 0h24v24H0V0z\" fill=\"none\"/>\n",
              "    <path d=\"M18.56 5.44l.94 2.06.94-2.06 2.06-.94-2.06-.94-.94-2.06-.94 2.06-2.06.94zm-11 1L8.5 8.5l.94-2.06 2.06-.94-2.06-.94L8.5 2.5l-.94 2.06-2.06.94zm10 10l.94 2.06.94-2.06 2.06-.94-2.06-.94-.94-2.06-.94 2.06-2.06.94z\"/><path d=\"M17.41 7.96l-1.37-1.37c-.4-.4-.92-.59-1.43-.59-.52 0-1.04.2-1.43.59L10.3 9.45l-7.72 7.72c-.78.78-.78 2.05 0 2.83L4 21.41c.39.39.9.59 1.41.59.51 0 1.02-.2 1.41-.59l7.78-7.78 2.81-2.81c.8-.78.8-2.07 0-2.86zM5.41 20L4 18.59l7.72-7.72 1.47 1.35L5.41 20z\"/>\n",
              "  </svg>\n",
              "      </button>\n",
              "      \n",
              "  <style>\n",
              "    .colab-df-container {\n",
              "      display:flex;\n",
              "      flex-wrap:wrap;\n",
              "      gap: 12px;\n",
              "    }\n",
              "\n",
              "    .colab-df-convert {\n",
              "      background-color: #E8F0FE;\n",
              "      border: none;\n",
              "      border-radius: 50%;\n",
              "      cursor: pointer;\n",
              "      display: none;\n",
              "      fill: #1967D2;\n",
              "      height: 32px;\n",
              "      padding: 0 0 0 0;\n",
              "      width: 32px;\n",
              "    }\n",
              "\n",
              "    .colab-df-convert:hover {\n",
              "      background-color: #E2EBFA;\n",
              "      box-shadow: 0px 1px 2px rgba(60, 64, 67, 0.3), 0px 1px 3px 1px rgba(60, 64, 67, 0.15);\n",
              "      fill: #174EA6;\n",
              "    }\n",
              "\n",
              "    [theme=dark] .colab-df-convert {\n",
              "      background-color: #3B4455;\n",
              "      fill: #D2E3FC;\n",
              "    }\n",
              "\n",
              "    [theme=dark] .colab-df-convert:hover {\n",
              "      background-color: #434B5C;\n",
              "      box-shadow: 0px 1px 3px 1px rgba(0, 0, 0, 0.15);\n",
              "      filter: drop-shadow(0px 1px 2px rgba(0, 0, 0, 0.3));\n",
              "      fill: #FFFFFF;\n",
              "    }\n",
              "  </style>\n",
              "\n",
              "      <script>\n",
              "        const buttonEl =\n",
              "          document.querySelector('#df-71236903-83ac-4d76-87e5-7a5a2a3585ba button.colab-df-convert');\n",
              "        buttonEl.style.display =\n",
              "          google.colab.kernel.accessAllowed ? 'block' : 'none';\n",
              "\n",
              "        async function convertToInteractive(key) {\n",
              "          const element = document.querySelector('#df-71236903-83ac-4d76-87e5-7a5a2a3585ba');\n",
              "          const dataTable =\n",
              "            await google.colab.kernel.invokeFunction('convertToInteractive',\n",
              "                                                     [key], {});\n",
              "          if (!dataTable) return;\n",
              "\n",
              "          const docLinkHtml = 'Like what you see? Visit the ' +\n",
              "            '<a target=\"_blank\" href=https://colab.research.google.com/notebooks/data_table.ipynb>data table notebook</a>'\n",
              "            + ' to learn more about interactive tables.';\n",
              "          element.innerHTML = '';\n",
              "          dataTable['output_type'] = 'display_data';\n",
              "          await google.colab.output.renderOutput(dataTable, element);\n",
              "          const docLink = document.createElement('div');\n",
              "          docLink.innerHTML = docLinkHtml;\n",
              "          element.appendChild(docLink);\n",
              "        }\n",
              "      </script>\n",
              "    </div>\n",
              "  </div>\n",
              "  "
            ]
          },
          "metadata": {},
          "execution_count": 25
        }
      ]
    },
    {
      "cell_type": "markdown",
      "source": [
        "dataset after removal of values greater than max threshold and less than min threshold"
      ],
      "metadata": {
        "id": "xZDgPpClO-b9"
      }
    },
    {
      "cell_type": "code",
      "source": [
        "inputs[(inputs['Showroom_Price']<max_thresold) & (inputs['Showroom_Price']>min_thresold)]"
      ],
      "metadata": {
        "colab": {
          "base_uri": "https://localhost:8080/",
          "height": 424
        },
        "id": "seiIvh-yGoHr",
        "outputId": "218ed9c9-d43e-41bb-bfe6-58d35e46bc20"
      },
      "execution_count": 26,
      "outputs": [
        {
          "output_type": "execute_result",
          "data": {
            "text/plain": [
              "      Showroom_Price  City_Mileage\n",
              "15          0.001866      0.214537\n",
              "16          0.002077      0.214537\n",
              "17          0.002301      0.214537\n",
              "20          0.002158      0.214537\n",
              "21          0.002475      0.214537\n",
              "...              ...           ...\n",
              "1271        0.011244      0.190741\n",
              "1272        0.012500      0.190741\n",
              "1273        0.012606      0.148148\n",
              "1274        0.010179      0.113889\n",
              "1275        0.069923      0.057870\n",
              "\n",
              "[438 rows x 2 columns]"
            ],
            "text/html": [
              "\n",
              "  <div id=\"df-c7dabf2a-7808-4e32-be47-7c0c972015df\">\n",
              "    <div class=\"colab-df-container\">\n",
              "      <div>\n",
              "<style scoped>\n",
              "    .dataframe tbody tr th:only-of-type {\n",
              "        vertical-align: middle;\n",
              "    }\n",
              "\n",
              "    .dataframe tbody tr th {\n",
              "        vertical-align: top;\n",
              "    }\n",
              "\n",
              "    .dataframe thead th {\n",
              "        text-align: right;\n",
              "    }\n",
              "</style>\n",
              "<table border=\"1\" class=\"dataframe\">\n",
              "  <thead>\n",
              "    <tr style=\"text-align: right;\">\n",
              "      <th></th>\n",
              "      <th>Showroom_Price</th>\n",
              "      <th>City_Mileage</th>\n",
              "    </tr>\n",
              "  </thead>\n",
              "  <tbody>\n",
              "    <tr>\n",
              "      <th>15</th>\n",
              "      <td>0.001866</td>\n",
              "      <td>0.214537</td>\n",
              "    </tr>\n",
              "    <tr>\n",
              "      <th>16</th>\n",
              "      <td>0.002077</td>\n",
              "      <td>0.214537</td>\n",
              "    </tr>\n",
              "    <tr>\n",
              "      <th>17</th>\n",
              "      <td>0.002301</td>\n",
              "      <td>0.214537</td>\n",
              "    </tr>\n",
              "    <tr>\n",
              "      <th>20</th>\n",
              "      <td>0.002158</td>\n",
              "      <td>0.214537</td>\n",
              "    </tr>\n",
              "    <tr>\n",
              "      <th>21</th>\n",
              "      <td>0.002475</td>\n",
              "      <td>0.214537</td>\n",
              "    </tr>\n",
              "    <tr>\n",
              "      <th>...</th>\n",
              "      <td>...</td>\n",
              "      <td>...</td>\n",
              "    </tr>\n",
              "    <tr>\n",
              "      <th>1271</th>\n",
              "      <td>0.011244</td>\n",
              "      <td>0.190741</td>\n",
              "    </tr>\n",
              "    <tr>\n",
              "      <th>1272</th>\n",
              "      <td>0.012500</td>\n",
              "      <td>0.190741</td>\n",
              "    </tr>\n",
              "    <tr>\n",
              "      <th>1273</th>\n",
              "      <td>0.012606</td>\n",
              "      <td>0.148148</td>\n",
              "    </tr>\n",
              "    <tr>\n",
              "      <th>1274</th>\n",
              "      <td>0.010179</td>\n",
              "      <td>0.113889</td>\n",
              "    </tr>\n",
              "    <tr>\n",
              "      <th>1275</th>\n",
              "      <td>0.069923</td>\n",
              "      <td>0.057870</td>\n",
              "    </tr>\n",
              "  </tbody>\n",
              "</table>\n",
              "<p>438 rows × 2 columns</p>\n",
              "</div>\n",
              "      <button class=\"colab-df-convert\" onclick=\"convertToInteractive('df-c7dabf2a-7808-4e32-be47-7c0c972015df')\"\n",
              "              title=\"Convert this dataframe to an interactive table.\"\n",
              "              style=\"display:none;\">\n",
              "        \n",
              "  <svg xmlns=\"http://www.w3.org/2000/svg\" height=\"24px\"viewBox=\"0 0 24 24\"\n",
              "       width=\"24px\">\n",
              "    <path d=\"M0 0h24v24H0V0z\" fill=\"none\"/>\n",
              "    <path d=\"M18.56 5.44l.94 2.06.94-2.06 2.06-.94-2.06-.94-.94-2.06-.94 2.06-2.06.94zm-11 1L8.5 8.5l.94-2.06 2.06-.94-2.06-.94L8.5 2.5l-.94 2.06-2.06.94zm10 10l.94 2.06.94-2.06 2.06-.94-2.06-.94-.94-2.06-.94 2.06-2.06.94z\"/><path d=\"M17.41 7.96l-1.37-1.37c-.4-.4-.92-.59-1.43-.59-.52 0-1.04.2-1.43.59L10.3 9.45l-7.72 7.72c-.78.78-.78 2.05 0 2.83L4 21.41c.39.39.9.59 1.41.59.51 0 1.02-.2 1.41-.59l7.78-7.78 2.81-2.81c.8-.78.8-2.07 0-2.86zM5.41 20L4 18.59l7.72-7.72 1.47 1.35L5.41 20z\"/>\n",
              "  </svg>\n",
              "      </button>\n",
              "      \n",
              "  <style>\n",
              "    .colab-df-container {\n",
              "      display:flex;\n",
              "      flex-wrap:wrap;\n",
              "      gap: 12px;\n",
              "    }\n",
              "\n",
              "    .colab-df-convert {\n",
              "      background-color: #E8F0FE;\n",
              "      border: none;\n",
              "      border-radius: 50%;\n",
              "      cursor: pointer;\n",
              "      display: none;\n",
              "      fill: #1967D2;\n",
              "      height: 32px;\n",
              "      padding: 0 0 0 0;\n",
              "      width: 32px;\n",
              "    }\n",
              "\n",
              "    .colab-df-convert:hover {\n",
              "      background-color: #E2EBFA;\n",
              "      box-shadow: 0px 1px 2px rgba(60, 64, 67, 0.3), 0px 1px 3px 1px rgba(60, 64, 67, 0.15);\n",
              "      fill: #174EA6;\n",
              "    }\n",
              "\n",
              "    [theme=dark] .colab-df-convert {\n",
              "      background-color: #3B4455;\n",
              "      fill: #D2E3FC;\n",
              "    }\n",
              "\n",
              "    [theme=dark] .colab-df-convert:hover {\n",
              "      background-color: #434B5C;\n",
              "      box-shadow: 0px 1px 3px 1px rgba(0, 0, 0, 0.15);\n",
              "      filter: drop-shadow(0px 1px 2px rgba(0, 0, 0, 0.3));\n",
              "      fill: #FFFFFF;\n",
              "    }\n",
              "  </style>\n",
              "\n",
              "      <script>\n",
              "        const buttonEl =\n",
              "          document.querySelector('#df-c7dabf2a-7808-4e32-be47-7c0c972015df button.colab-df-convert');\n",
              "        buttonEl.style.display =\n",
              "          google.colab.kernel.accessAllowed ? 'block' : 'none';\n",
              "\n",
              "        async function convertToInteractive(key) {\n",
              "          const element = document.querySelector('#df-c7dabf2a-7808-4e32-be47-7c0c972015df');\n",
              "          const dataTable =\n",
              "            await google.colab.kernel.invokeFunction('convertToInteractive',\n",
              "                                                     [key], {});\n",
              "          if (!dataTable) return;\n",
              "\n",
              "          const docLinkHtml = 'Like what you see? Visit the ' +\n",
              "            '<a target=\"_blank\" href=https://colab.research.google.com/notebooks/data_table.ipynb>data table notebook</a>'\n",
              "            + ' to learn more about interactive tables.';\n",
              "          element.innerHTML = '';\n",
              "          dataTable['output_type'] = 'display_data';\n",
              "          await google.colab.output.renderOutput(dataTable, element);\n",
              "          const docLink = document.createElement('div');\n",
              "          docLink.innerHTML = docLinkHtml;\n",
              "          element.appendChild(docLink);\n",
              "        }\n",
              "      </script>\n",
              "    </div>\n",
              "  </div>\n",
              "  "
            ]
          },
          "metadata": {},
          "execution_count": 26
        }
      ]
    },
    {
      "cell_type": "code",
      "source": [
        "from sklearn import svm,datasets\n",
        "from sklearn.preprocessing import LabelEncoder"
      ],
      "metadata": {
        "id": "xrqm_W8tGsPS"
      },
      "execution_count": 27,
      "outputs": []
    },
    {
      "cell_type": "markdown",
      "source": [
        "forming the dataset grid by taking some columns from df and removing the nan and infinite values"
      ],
      "metadata": {
        "id": "JoigyJ3WPMrW"
      }
    },
    {
      "cell_type": "code",
      "source": [
        "le_emission_norm = LabelEncoder()\n",
        "le_Fuel_Tank_Capacity =LabelEncoder()\n",
        "le_Fuel_Type = LabelEncoder()\n",
        "\n",
        "grid = df[['Showroom_Price','City_Mileage','Cylinders']]\n",
        "grid['Emission_Norm']= le_emission_norm.fit_transform(df['Emission_Norm'])\n",
        "grid['Fuel_Tank_Capacity'] =le_Fuel_Tank_Capacity.fit_transform(df['Fuel_Tank_Capacity'])\n",
        "grid['Fuel_Type']= le_Fuel_Type.fit_transform(df['Fuel_Type'])\n",
        "grid['Showroom_Price'] = grid['Showroom_Price'].div(100000).round(0)\n",
        "\n",
        "grid.replace([np.inf, -np.inf], np.nan, inplace=True)\n",
        "# Drop rows with NaN\n",
        "grid.dropna(inplace=True)\n",
        "grid.drop([304], axis=0, inplace=True)\n",
        "\n",
        "\n",
        "target = grid['Showroom_Price']\n",
        "\n",
        "kk = grid\n",
        "\n",
        "grid"
      ],
      "metadata": {
        "colab": {
          "base_uri": "https://localhost:8080/",
          "height": 1000
        },
        "id": "Mghd1i8wI5wx",
        "outputId": "c53943f9-00bf-4139-8769-8bc07ca90b56"
      },
      "execution_count": 28,
      "outputs": [
        {
          "output_type": "stream",
          "name": "stderr",
          "text": [
            "/usr/local/lib/python3.7/dist-packages/ipykernel_launcher.py:6: SettingWithCopyWarning: \n",
            "A value is trying to be set on a copy of a slice from a DataFrame.\n",
            "Try using .loc[row_indexer,col_indexer] = value instead\n",
            "\n",
            "See the caveats in the documentation: https://pandas.pydata.org/pandas-docs/stable/user_guide/indexing.html#returning-a-view-versus-a-copy\n",
            "  \n",
            "/usr/local/lib/python3.7/dist-packages/ipykernel_launcher.py:7: SettingWithCopyWarning: \n",
            "A value is trying to be set on a copy of a slice from a DataFrame.\n",
            "Try using .loc[row_indexer,col_indexer] = value instead\n",
            "\n",
            "See the caveats in the documentation: https://pandas.pydata.org/pandas-docs/stable/user_guide/indexing.html#returning-a-view-versus-a-copy\n",
            "  import sys\n",
            "/usr/local/lib/python3.7/dist-packages/ipykernel_launcher.py:8: SettingWithCopyWarning: \n",
            "A value is trying to be set on a copy of a slice from a DataFrame.\n",
            "Try using .loc[row_indexer,col_indexer] = value instead\n",
            "\n",
            "See the caveats in the documentation: https://pandas.pydata.org/pandas-docs/stable/user_guide/indexing.html#returning-a-view-versus-a-copy\n",
            "  \n",
            "/usr/local/lib/python3.7/dist-packages/ipykernel_launcher.py:9: SettingWithCopyWarning: \n",
            "A value is trying to be set on a copy of a slice from a DataFrame.\n",
            "Try using .loc[row_indexer,col_indexer] = value instead\n",
            "\n",
            "See the caveats in the documentation: https://pandas.pydata.org/pandas-docs/stable/user_guide/indexing.html#returning-a-view-versus-a-copy\n",
            "  if __name__ == '__main__':\n",
            "/usr/local/lib/python3.7/dist-packages/pandas/core/frame.py:5244: SettingWithCopyWarning: \n",
            "A value is trying to be set on a copy of a slice from a DataFrame\n",
            "\n",
            "See the caveats in the documentation: https://pandas.pydata.org/pandas-docs/stable/user_guide/indexing.html#returning-a-view-versus-a-copy\n",
            "  method=method,\n",
            "/usr/local/lib/python3.7/dist-packages/pandas/util/_decorators.py:311: SettingWithCopyWarning: \n",
            "A value is trying to be set on a copy of a slice from a DataFrame\n",
            "\n",
            "See the caveats in the documentation: https://pandas.pydata.org/pandas-docs/stable/user_guide/indexing.html#returning-a-view-versus-a-copy\n",
            "  return func(*args, **kwargs)\n",
            "/usr/local/lib/python3.7/dist-packages/pandas/core/frame.py:4913: SettingWithCopyWarning: \n",
            "A value is trying to be set on a copy of a slice from a DataFrame\n",
            "\n",
            "See the caveats in the documentation: https://pandas.pydata.org/pandas-docs/stable/user_guide/indexing.html#returning-a-view-versus-a-copy\n",
            "  errors=errors,\n"
          ]
        },
        {
          "output_type": "execute_result",
          "data": {
            "text/plain": [
              "      Showroom_Price City_Mileage  Cylinders  Emission_Norm  \\\n",
              "0                3.0         23.6        2.0              2   \n",
              "1                2.0         23.6        2.0              2   \n",
              "2                3.0         23.6        2.0              2   \n",
              "3                3.0         23.6        2.0              2   \n",
              "4                3.0         23.6        2.0              2   \n",
              "...              ...          ...        ...            ...   \n",
              "1271            13.0         22.6        4.0              2   \n",
              "1272            14.0         22.6        4.0              2   \n",
              "1273            14.0           18        4.0              0   \n",
              "1274            12.0         14.3        4.0              0   \n",
              "1275            69.0         8.25        4.0              2   \n",
              "\n",
              "      Fuel_Tank_Capacity  Fuel_Type  \n",
              "0                      3          5  \n",
              "1                      3          5  \n",
              "2                      2          0  \n",
              "3                      3          5  \n",
              "4                      3          5  \n",
              "...                  ...        ...  \n",
              "1271                  10          2  \n",
              "1272                  10          2  \n",
              "1273                  10          5  \n",
              "1274                  10          5  \n",
              "1275                  54          2  \n",
              "\n",
              "[704 rows x 6 columns]"
            ],
            "text/html": [
              "\n",
              "  <div id=\"df-feb5ebb7-4aea-4d15-896d-82fc30e0e286\">\n",
              "    <div class=\"colab-df-container\">\n",
              "      <div>\n",
              "<style scoped>\n",
              "    .dataframe tbody tr th:only-of-type {\n",
              "        vertical-align: middle;\n",
              "    }\n",
              "\n",
              "    .dataframe tbody tr th {\n",
              "        vertical-align: top;\n",
              "    }\n",
              "\n",
              "    .dataframe thead th {\n",
              "        text-align: right;\n",
              "    }\n",
              "</style>\n",
              "<table border=\"1\" class=\"dataframe\">\n",
              "  <thead>\n",
              "    <tr style=\"text-align: right;\">\n",
              "      <th></th>\n",
              "      <th>Showroom_Price</th>\n",
              "      <th>City_Mileage</th>\n",
              "      <th>Cylinders</th>\n",
              "      <th>Emission_Norm</th>\n",
              "      <th>Fuel_Tank_Capacity</th>\n",
              "      <th>Fuel_Type</th>\n",
              "    </tr>\n",
              "  </thead>\n",
              "  <tbody>\n",
              "    <tr>\n",
              "      <th>0</th>\n",
              "      <td>3.0</td>\n",
              "      <td>23.6</td>\n",
              "      <td>2.0</td>\n",
              "      <td>2</td>\n",
              "      <td>3</td>\n",
              "      <td>5</td>\n",
              "    </tr>\n",
              "    <tr>\n",
              "      <th>1</th>\n",
              "      <td>2.0</td>\n",
              "      <td>23.6</td>\n",
              "      <td>2.0</td>\n",
              "      <td>2</td>\n",
              "      <td>3</td>\n",
              "      <td>5</td>\n",
              "    </tr>\n",
              "    <tr>\n",
              "      <th>2</th>\n",
              "      <td>3.0</td>\n",
              "      <td>23.6</td>\n",
              "      <td>2.0</td>\n",
              "      <td>2</td>\n",
              "      <td>2</td>\n",
              "      <td>0</td>\n",
              "    </tr>\n",
              "    <tr>\n",
              "      <th>3</th>\n",
              "      <td>3.0</td>\n",
              "      <td>23.6</td>\n",
              "      <td>2.0</td>\n",
              "      <td>2</td>\n",
              "      <td>3</td>\n",
              "      <td>5</td>\n",
              "    </tr>\n",
              "    <tr>\n",
              "      <th>4</th>\n",
              "      <td>3.0</td>\n",
              "      <td>23.6</td>\n",
              "      <td>2.0</td>\n",
              "      <td>2</td>\n",
              "      <td>3</td>\n",
              "      <td>5</td>\n",
              "    </tr>\n",
              "    <tr>\n",
              "      <th>...</th>\n",
              "      <td>...</td>\n",
              "      <td>...</td>\n",
              "      <td>...</td>\n",
              "      <td>...</td>\n",
              "      <td>...</td>\n",
              "      <td>...</td>\n",
              "    </tr>\n",
              "    <tr>\n",
              "      <th>1271</th>\n",
              "      <td>13.0</td>\n",
              "      <td>22.6</td>\n",
              "      <td>4.0</td>\n",
              "      <td>2</td>\n",
              "      <td>10</td>\n",
              "      <td>2</td>\n",
              "    </tr>\n",
              "    <tr>\n",
              "      <th>1272</th>\n",
              "      <td>14.0</td>\n",
              "      <td>22.6</td>\n",
              "      <td>4.0</td>\n",
              "      <td>2</td>\n",
              "      <td>10</td>\n",
              "      <td>2</td>\n",
              "    </tr>\n",
              "    <tr>\n",
              "      <th>1273</th>\n",
              "      <td>14.0</td>\n",
              "      <td>18</td>\n",
              "      <td>4.0</td>\n",
              "      <td>0</td>\n",
              "      <td>10</td>\n",
              "      <td>5</td>\n",
              "    </tr>\n",
              "    <tr>\n",
              "      <th>1274</th>\n",
              "      <td>12.0</td>\n",
              "      <td>14.3</td>\n",
              "      <td>4.0</td>\n",
              "      <td>0</td>\n",
              "      <td>10</td>\n",
              "      <td>5</td>\n",
              "    </tr>\n",
              "    <tr>\n",
              "      <th>1275</th>\n",
              "      <td>69.0</td>\n",
              "      <td>8.25</td>\n",
              "      <td>4.0</td>\n",
              "      <td>2</td>\n",
              "      <td>54</td>\n",
              "      <td>2</td>\n",
              "    </tr>\n",
              "  </tbody>\n",
              "</table>\n",
              "<p>704 rows × 6 columns</p>\n",
              "</div>\n",
              "      <button class=\"colab-df-convert\" onclick=\"convertToInteractive('df-feb5ebb7-4aea-4d15-896d-82fc30e0e286')\"\n",
              "              title=\"Convert this dataframe to an interactive table.\"\n",
              "              style=\"display:none;\">\n",
              "        \n",
              "  <svg xmlns=\"http://www.w3.org/2000/svg\" height=\"24px\"viewBox=\"0 0 24 24\"\n",
              "       width=\"24px\">\n",
              "    <path d=\"M0 0h24v24H0V0z\" fill=\"none\"/>\n",
              "    <path d=\"M18.56 5.44l.94 2.06.94-2.06 2.06-.94-2.06-.94-.94-2.06-.94 2.06-2.06.94zm-11 1L8.5 8.5l.94-2.06 2.06-.94-2.06-.94L8.5 2.5l-.94 2.06-2.06.94zm10 10l.94 2.06.94-2.06 2.06-.94-2.06-.94-.94-2.06-.94 2.06-2.06.94z\"/><path d=\"M17.41 7.96l-1.37-1.37c-.4-.4-.92-.59-1.43-.59-.52 0-1.04.2-1.43.59L10.3 9.45l-7.72 7.72c-.78.78-.78 2.05 0 2.83L4 21.41c.39.39.9.59 1.41.59.51 0 1.02-.2 1.41-.59l7.78-7.78 2.81-2.81c.8-.78.8-2.07 0-2.86zM5.41 20L4 18.59l7.72-7.72 1.47 1.35L5.41 20z\"/>\n",
              "  </svg>\n",
              "      </button>\n",
              "      \n",
              "  <style>\n",
              "    .colab-df-container {\n",
              "      display:flex;\n",
              "      flex-wrap:wrap;\n",
              "      gap: 12px;\n",
              "    }\n",
              "\n",
              "    .colab-df-convert {\n",
              "      background-color: #E8F0FE;\n",
              "      border: none;\n",
              "      border-radius: 50%;\n",
              "      cursor: pointer;\n",
              "      display: none;\n",
              "      fill: #1967D2;\n",
              "      height: 32px;\n",
              "      padding: 0 0 0 0;\n",
              "      width: 32px;\n",
              "    }\n",
              "\n",
              "    .colab-df-convert:hover {\n",
              "      background-color: #E2EBFA;\n",
              "      box-shadow: 0px 1px 2px rgba(60, 64, 67, 0.3), 0px 1px 3px 1px rgba(60, 64, 67, 0.15);\n",
              "      fill: #174EA6;\n",
              "    }\n",
              "\n",
              "    [theme=dark] .colab-df-convert {\n",
              "      background-color: #3B4455;\n",
              "      fill: #D2E3FC;\n",
              "    }\n",
              "\n",
              "    [theme=dark] .colab-df-convert:hover {\n",
              "      background-color: #434B5C;\n",
              "      box-shadow: 0px 1px 3px 1px rgba(0, 0, 0, 0.15);\n",
              "      filter: drop-shadow(0px 1px 2px rgba(0, 0, 0, 0.3));\n",
              "      fill: #FFFFFF;\n",
              "    }\n",
              "  </style>\n",
              "\n",
              "      <script>\n",
              "        const buttonEl =\n",
              "          document.querySelector('#df-feb5ebb7-4aea-4d15-896d-82fc30e0e286 button.colab-df-convert');\n",
              "        buttonEl.style.display =\n",
              "          google.colab.kernel.accessAllowed ? 'block' : 'none';\n",
              "\n",
              "        async function convertToInteractive(key) {\n",
              "          const element = document.querySelector('#df-feb5ebb7-4aea-4d15-896d-82fc30e0e286');\n",
              "          const dataTable =\n",
              "            await google.colab.kernel.invokeFunction('convertToInteractive',\n",
              "                                                     [key], {});\n",
              "          if (!dataTable) return;\n",
              "\n",
              "          const docLinkHtml = 'Like what you see? Visit the ' +\n",
              "            '<a target=\"_blank\" href=https://colab.research.google.com/notebooks/data_table.ipynb>data table notebook</a>'\n",
              "            + ' to learn more about interactive tables.';\n",
              "          element.innerHTML = '';\n",
              "          dataTable['output_type'] = 'display_data';\n",
              "          await google.colab.output.renderOutput(dataTable, element);\n",
              "          const docLink = document.createElement('div');\n",
              "          docLink.innerHTML = docLinkHtml;\n",
              "          element.appendChild(docLink);\n",
              "        }\n",
              "      </script>\n",
              "    </div>\n",
              "  </div>\n",
              "  "
            ]
          },
          "metadata": {},
          "execution_count": 28
        }
      ]
    },
    {
      "cell_type": "markdown",
      "source": [
        "Using the the train test split "
      ],
      "metadata": {
        "id": "WQMQfGB1Pi-Y"
      }
    },
    {
      "cell_type": "code",
      "source": [
        "from sklearn.model_selection import train_test_split\n",
        "X_train , X_test , y_train , y_test = train_test_split(grid, target,test_size = 0.3)"
      ],
      "metadata": {
        "id": "7SRrex1oJlf_"
      },
      "execution_count": 29,
      "outputs": []
    },
    {
      "cell_type": "code",
      "source": [
        "model = svm.SVC(kernel='poly',C=30,gamma='auto')\n",
        "\n"
      ],
      "metadata": {
        "id": "pmH7yHcOiHhi"
      },
      "execution_count": 30,
      "outputs": []
    },
    {
      "cell_type": "code",
      "source": [
        "model.fit(X_train,y_train)\n"
      ],
      "metadata": {
        "id": "PSaxX3Elimnr",
        "colab": {
          "base_uri": "https://localhost:8080/"
        },
        "outputId": "7bd0c7fd-f192-40ef-d2a0-e3ce44600825"
      },
      "execution_count": 31,
      "outputs": [
        {
          "output_type": "execute_result",
          "data": {
            "text/plain": [
              "SVC(C=30, gamma='auto', kernel='poly')"
            ]
          },
          "metadata": {},
          "execution_count": 31
        }
      ]
    },
    {
      "cell_type": "code",
      "source": [
        "model.score(X_test,y_test)"
      ],
      "metadata": {
        "id": "Vrxe37tjivFx",
        "colab": {
          "base_uri": "https://localhost:8080/"
        },
        "outputId": "499647cf-3890-4838-da86-83f10fed5dbd"
      },
      "execution_count": 32,
      "outputs": [
        {
          "output_type": "execute_result",
          "data": {
            "text/plain": [
              "0.7075471698113207"
            ]
          },
          "metadata": {},
          "execution_count": 32
        }
      ]
    },
    {
      "cell_type": "code",
      "source": [
        "from sklearn.model_selection import cross_val_score"
      ],
      "metadata": {
        "id": "2QkzlGzKkzfY"
      },
      "execution_count": 33,
      "outputs": []
    },
    {
      "cell_type": "code",
      "source": [
        "kernels = ['rbf', 'linear']\n",
        "C= [1,10,20,30]\n",
        "avg_score ={}\n",
        "for kval in kernels:\n",
        "  for cval in C:\n",
        "    cv_scores = cross_val_score(svm.SVC(kernel=kval,C=cval,gamma='auto'),grid,target,cv=5)\n",
        "    avg_score[kval +'_'+ str(cval)] = np.average(cv_scores)\n",
        "\n",
        "avg_score"
      ],
      "metadata": {
        "id": "rLIMbgaYwAsh",
        "colab": {
          "base_uri": "https://localhost:8080/"
        },
        "outputId": "ced217e9-94e1-4d9a-8c52-48f3b9cf767b"
      },
      "execution_count": 34,
      "outputs": [
        {
          "output_type": "stream",
          "name": "stderr",
          "text": [
            "/usr/local/lib/python3.7/dist-packages/sklearn/model_selection/_split.py:680: UserWarning: The least populated class in y has only 1 members, which is less than n_splits=5.\n",
            "  UserWarning,\n",
            "/usr/local/lib/python3.7/dist-packages/sklearn/model_selection/_split.py:680: UserWarning: The least populated class in y has only 1 members, which is less than n_splits=5.\n",
            "  UserWarning,\n",
            "/usr/local/lib/python3.7/dist-packages/sklearn/model_selection/_split.py:680: UserWarning: The least populated class in y has only 1 members, which is less than n_splits=5.\n",
            "  UserWarning,\n",
            "/usr/local/lib/python3.7/dist-packages/sklearn/model_selection/_split.py:680: UserWarning: The least populated class in y has only 1 members, which is less than n_splits=5.\n",
            "  UserWarning,\n",
            "/usr/local/lib/python3.7/dist-packages/sklearn/model_selection/_split.py:680: UserWarning: The least populated class in y has only 1 members, which is less than n_splits=5.\n",
            "  UserWarning,\n",
            "/usr/local/lib/python3.7/dist-packages/sklearn/model_selection/_split.py:680: UserWarning: The least populated class in y has only 1 members, which is less than n_splits=5.\n",
            "  UserWarning,\n",
            "/usr/local/lib/python3.7/dist-packages/sklearn/model_selection/_split.py:680: UserWarning: The least populated class in y has only 1 members, which is less than n_splits=5.\n",
            "  UserWarning,\n",
            "/usr/local/lib/python3.7/dist-packages/sklearn/model_selection/_split.py:680: UserWarning: The least populated class in y has only 1 members, which is less than n_splits=5.\n",
            "  UserWarning,\n"
          ]
        },
        {
          "output_type": "execute_result",
          "data": {
            "text/plain": [
              "{'rbf_1': 0.32092198581560283,\n",
              " 'rbf_10': 0.45876393110435665,\n",
              " 'rbf_20': 0.45876393110435665,\n",
              " 'rbf_30': 0.45876393110435665,\n",
              " 'linear_1': 0.7940526849037488,\n",
              " 'linear_10': 0.7954711246200608,\n",
              " 'linear_20': 0.7954711246200608,\n",
              " 'linear_30': 0.7954711246200608}"
            ]
          },
          "metadata": {},
          "execution_count": 34
        }
      ]
    },
    {
      "cell_type": "code",
      "source": [
        ""
      ],
      "metadata": {
        "id": "mEtKB5sTws44"
      },
      "execution_count": 34,
      "outputs": []
    },
    {
      "cell_type": "markdown",
      "source": [
        "taking the dataset to various machine learning model and knowing the scores accordingly"
      ],
      "metadata": {
        "id": "nZ8ZGB5rP2w9"
      }
    },
    {
      "cell_type": "code",
      "source": [
        "from sklearn import svm\n",
        "from sklearn.ensemble import RandomForestClassifier\n",
        "from sklearn.linear_model import LogisticRegression\n",
        "from sklearn.naive_bayes import GaussianNB\n",
        "from sklearn.naive_bayes import MultinomialNB\n",
        "from sklearn.tree import DecisionTreeClassifier\n",
        "model_params = {\n",
        "    'svm': {\n",
        "        'model': svm.SVC(gamma='auto'),\n",
        "        'params' : {\n",
        "            'C': [1,10,20],\n",
        "            'kernel': ['rbf','linear']\n",
        "        }  \n",
        "    },\n",
        "    'random_forest': {\n",
        "        'model': RandomForestClassifier(),\n",
        "        'params' : {\n",
        "            'n_estimators': [1,5,10]\n",
        "        }\n",
        "    },\n",
        "    'logistic_regression' : {\n",
        "        'model': LogisticRegression(solver='liblinear',multi_class='auto'),\n",
        "        'params': {\n",
        "            'C': [1,5,10]\n",
        "        }\n",
        "    },\n",
        "    'naive_bayes_gaussian': {\n",
        "        'model': GaussianNB(),\n",
        "        'params': {}\n",
        "    },\n",
        "    'naive_bayes_multinomial': {\n",
        "        'model': MultinomialNB(),\n",
        "        'params': {}\n",
        "    },\n",
        "    'decision_tree': {\n",
        "        'model': DecisionTreeClassifier(),\n",
        "        'params': {\n",
        "            'criterion': ['gini','entropy'],\n",
        "            \n",
        "        }\n",
        "    }     \n",
        "}"
      ],
      "metadata": {
        "id": "i747EHkJ7Qdx"
      },
      "execution_count": 35,
      "outputs": []
    },
    {
      "cell_type": "code",
      "source": [
        "from sklearn.model_selection import GridSearchCV\n",
        "import pandas as pd\n",
        "scores = []\n",
        "grid['target'] =grid['Showroom_Price']\n",
        "\n",
        "for model_name, mp in model_params.items():\n",
        "    clf =  GridSearchCV(mp['model'], mp['params'], cv=5, return_train_score=False)\n",
        "    clf.fit(grid, grid.target)\n",
        "    scores.append({\n",
        "        'model': model_name,\n",
        "        'best_score': clf.best_score_,\n",
        "        'best_params': clf.best_params_\n",
        "    })\n",
        "    \n",
        "grid = pd.DataFrame(scores,columns=['model','best_score','best_params'])\n",
        "grid"
      ],
      "metadata": {
        "colab": {
          "base_uri": "https://localhost:8080/",
          "height": 550
        },
        "id": "L_oxzCBgCS1m",
        "outputId": "f878bfec-e999-4f15-860c-801c17912f6d"
      },
      "execution_count": 36,
      "outputs": [
        {
          "output_type": "stream",
          "name": "stderr",
          "text": [
            "/usr/local/lib/python3.7/dist-packages/ipykernel_launcher.py:4: SettingWithCopyWarning: \n",
            "A value is trying to be set on a copy of a slice from a DataFrame.\n",
            "Try using .loc[row_indexer,col_indexer] = value instead\n",
            "\n",
            "See the caveats in the documentation: https://pandas.pydata.org/pandas-docs/stable/user_guide/indexing.html#returning-a-view-versus-a-copy\n",
            "  after removing the cwd from sys.path.\n",
            "/usr/local/lib/python3.7/dist-packages/sklearn/model_selection/_split.py:680: UserWarning: The least populated class in y has only 1 members, which is less than n_splits=5.\n",
            "  UserWarning,\n",
            "/usr/local/lib/python3.7/dist-packages/sklearn/model_selection/_split.py:680: UserWarning: The least populated class in y has only 1 members, which is less than n_splits=5.\n",
            "  UserWarning,\n",
            "/usr/local/lib/python3.7/dist-packages/sklearn/model_selection/_split.py:680: UserWarning: The least populated class in y has only 1 members, which is less than n_splits=5.\n",
            "  UserWarning,\n",
            "/usr/local/lib/python3.7/dist-packages/sklearn/model_selection/_split.py:680: UserWarning: The least populated class in y has only 1 members, which is less than n_splits=5.\n",
            "  UserWarning,\n",
            "/usr/local/lib/python3.7/dist-packages/sklearn/model_selection/_split.py:680: UserWarning: The least populated class in y has only 1 members, which is less than n_splits=5.\n",
            "  UserWarning,\n",
            "/usr/local/lib/python3.7/dist-packages/sklearn/model_selection/_split.py:680: UserWarning: The least populated class in y has only 1 members, which is less than n_splits=5.\n",
            "  UserWarning,\n"
          ]
        },
        {
          "output_type": "execute_result",
          "data": {
            "text/plain": [
              "                     model  best_score                   best_params\n",
              "0                      svm    0.803982  {'C': 1, 'kernel': 'linear'}\n",
              "1            random_forest    0.714448          {'n_estimators': 10}\n",
              "2      logistic_regression    0.180426                      {'C': 5}\n",
              "3     naive_bayes_gaussian    0.825279                            {}\n",
              "4  naive_bayes_multinomial    0.197366                            {}\n",
              "5            decision_tree    0.848045         {'criterion': 'gini'}"
            ],
            "text/html": [
              "\n",
              "  <div id=\"df-d258874e-422f-45c4-ba0d-07ae8603b470\">\n",
              "    <div class=\"colab-df-container\">\n",
              "      <div>\n",
              "<style scoped>\n",
              "    .dataframe tbody tr th:only-of-type {\n",
              "        vertical-align: middle;\n",
              "    }\n",
              "\n",
              "    .dataframe tbody tr th {\n",
              "        vertical-align: top;\n",
              "    }\n",
              "\n",
              "    .dataframe thead th {\n",
              "        text-align: right;\n",
              "    }\n",
              "</style>\n",
              "<table border=\"1\" class=\"dataframe\">\n",
              "  <thead>\n",
              "    <tr style=\"text-align: right;\">\n",
              "      <th></th>\n",
              "      <th>model</th>\n",
              "      <th>best_score</th>\n",
              "      <th>best_params</th>\n",
              "    </tr>\n",
              "  </thead>\n",
              "  <tbody>\n",
              "    <tr>\n",
              "      <th>0</th>\n",
              "      <td>svm</td>\n",
              "      <td>0.803982</td>\n",
              "      <td>{'C': 1, 'kernel': 'linear'}</td>\n",
              "    </tr>\n",
              "    <tr>\n",
              "      <th>1</th>\n",
              "      <td>random_forest</td>\n",
              "      <td>0.714448</td>\n",
              "      <td>{'n_estimators': 10}</td>\n",
              "    </tr>\n",
              "    <tr>\n",
              "      <th>2</th>\n",
              "      <td>logistic_regression</td>\n",
              "      <td>0.180426</td>\n",
              "      <td>{'C': 5}</td>\n",
              "    </tr>\n",
              "    <tr>\n",
              "      <th>3</th>\n",
              "      <td>naive_bayes_gaussian</td>\n",
              "      <td>0.825279</td>\n",
              "      <td>{}</td>\n",
              "    </tr>\n",
              "    <tr>\n",
              "      <th>4</th>\n",
              "      <td>naive_bayes_multinomial</td>\n",
              "      <td>0.197366</td>\n",
              "      <td>{}</td>\n",
              "    </tr>\n",
              "    <tr>\n",
              "      <th>5</th>\n",
              "      <td>decision_tree</td>\n",
              "      <td>0.848045</td>\n",
              "      <td>{'criterion': 'gini'}</td>\n",
              "    </tr>\n",
              "  </tbody>\n",
              "</table>\n",
              "</div>\n",
              "      <button class=\"colab-df-convert\" onclick=\"convertToInteractive('df-d258874e-422f-45c4-ba0d-07ae8603b470')\"\n",
              "              title=\"Convert this dataframe to an interactive table.\"\n",
              "              style=\"display:none;\">\n",
              "        \n",
              "  <svg xmlns=\"http://www.w3.org/2000/svg\" height=\"24px\"viewBox=\"0 0 24 24\"\n",
              "       width=\"24px\">\n",
              "    <path d=\"M0 0h24v24H0V0z\" fill=\"none\"/>\n",
              "    <path d=\"M18.56 5.44l.94 2.06.94-2.06 2.06-.94-2.06-.94-.94-2.06-.94 2.06-2.06.94zm-11 1L8.5 8.5l.94-2.06 2.06-.94-2.06-.94L8.5 2.5l-.94 2.06-2.06.94zm10 10l.94 2.06.94-2.06 2.06-.94-2.06-.94-.94-2.06-.94 2.06-2.06.94z\"/><path d=\"M17.41 7.96l-1.37-1.37c-.4-.4-.92-.59-1.43-.59-.52 0-1.04.2-1.43.59L10.3 9.45l-7.72 7.72c-.78.78-.78 2.05 0 2.83L4 21.41c.39.39.9.59 1.41.59.51 0 1.02-.2 1.41-.59l7.78-7.78 2.81-2.81c.8-.78.8-2.07 0-2.86zM5.41 20L4 18.59l7.72-7.72 1.47 1.35L5.41 20z\"/>\n",
              "  </svg>\n",
              "      </button>\n",
              "      \n",
              "  <style>\n",
              "    .colab-df-container {\n",
              "      display:flex;\n",
              "      flex-wrap:wrap;\n",
              "      gap: 12px;\n",
              "    }\n",
              "\n",
              "    .colab-df-convert {\n",
              "      background-color: #E8F0FE;\n",
              "      border: none;\n",
              "      border-radius: 50%;\n",
              "      cursor: pointer;\n",
              "      display: none;\n",
              "      fill: #1967D2;\n",
              "      height: 32px;\n",
              "      padding: 0 0 0 0;\n",
              "      width: 32px;\n",
              "    }\n",
              "\n",
              "    .colab-df-convert:hover {\n",
              "      background-color: #E2EBFA;\n",
              "      box-shadow: 0px 1px 2px rgba(60, 64, 67, 0.3), 0px 1px 3px 1px rgba(60, 64, 67, 0.15);\n",
              "      fill: #174EA6;\n",
              "    }\n",
              "\n",
              "    [theme=dark] .colab-df-convert {\n",
              "      background-color: #3B4455;\n",
              "      fill: #D2E3FC;\n",
              "    }\n",
              "\n",
              "    [theme=dark] .colab-df-convert:hover {\n",
              "      background-color: #434B5C;\n",
              "      box-shadow: 0px 1px 3px 1px rgba(0, 0, 0, 0.15);\n",
              "      filter: drop-shadow(0px 1px 2px rgba(0, 0, 0, 0.3));\n",
              "      fill: #FFFFFF;\n",
              "    }\n",
              "  </style>\n",
              "\n",
              "      <script>\n",
              "        const buttonEl =\n",
              "          document.querySelector('#df-d258874e-422f-45c4-ba0d-07ae8603b470 button.colab-df-convert');\n",
              "        buttonEl.style.display =\n",
              "          google.colab.kernel.accessAllowed ? 'block' : 'none';\n",
              "\n",
              "        async function convertToInteractive(key) {\n",
              "          const element = document.querySelector('#df-d258874e-422f-45c4-ba0d-07ae8603b470');\n",
              "          const dataTable =\n",
              "            await google.colab.kernel.invokeFunction('convertToInteractive',\n",
              "                                                     [key], {});\n",
              "          if (!dataTable) return;\n",
              "\n",
              "          const docLinkHtml = 'Like what you see? Visit the ' +\n",
              "            '<a target=\"_blank\" href=https://colab.research.google.com/notebooks/data_table.ipynb>data table notebook</a>'\n",
              "            + ' to learn more about interactive tables.';\n",
              "          element.innerHTML = '';\n",
              "          dataTable['output_type'] = 'display_data';\n",
              "          await google.colab.output.renderOutput(dataTable, element);\n",
              "          const docLink = document.createElement('div');\n",
              "          docLink.innerHTML = docLinkHtml;\n",
              "          element.appendChild(docLink);\n",
              "        }\n",
              "      </script>\n",
              "    </div>\n",
              "  </div>\n",
              "  "
            ]
          },
          "metadata": {},
          "execution_count": 36
        }
      ]
    },
    {
      "cell_type": "code",
      "source": [
        "kk"
      ],
      "metadata": {
        "colab": {
          "base_uri": "https://localhost:8080/",
          "height": 424
        },
        "id": "t21M00KsDmzz",
        "outputId": "5165e3e6-5049-42ad-b9f4-b3954f3c4742"
      },
      "execution_count": 37,
      "outputs": [
        {
          "output_type": "execute_result",
          "data": {
            "text/plain": [
              "      Showroom_Price City_Mileage  Cylinders  Emission_Norm  \\\n",
              "0                3.0         23.6        2.0              2   \n",
              "1                2.0         23.6        2.0              2   \n",
              "2                3.0         23.6        2.0              2   \n",
              "3                3.0         23.6        2.0              2   \n",
              "4                3.0         23.6        2.0              2   \n",
              "...              ...          ...        ...            ...   \n",
              "1271            13.0         22.6        4.0              2   \n",
              "1272            14.0         22.6        4.0              2   \n",
              "1273            14.0           18        4.0              0   \n",
              "1274            12.0         14.3        4.0              0   \n",
              "1275            69.0         8.25        4.0              2   \n",
              "\n",
              "      Fuel_Tank_Capacity  Fuel_Type  target  \n",
              "0                      3          5     3.0  \n",
              "1                      3          5     2.0  \n",
              "2                      2          0     3.0  \n",
              "3                      3          5     3.0  \n",
              "4                      3          5     3.0  \n",
              "...                  ...        ...     ...  \n",
              "1271                  10          2    13.0  \n",
              "1272                  10          2    14.0  \n",
              "1273                  10          5    14.0  \n",
              "1274                  10          5    12.0  \n",
              "1275                  54          2    69.0  \n",
              "\n",
              "[704 rows x 7 columns]"
            ],
            "text/html": [
              "\n",
              "  <div id=\"df-770b74d6-a713-4f7c-974c-7334b678281a\">\n",
              "    <div class=\"colab-df-container\">\n",
              "      <div>\n",
              "<style scoped>\n",
              "    .dataframe tbody tr th:only-of-type {\n",
              "        vertical-align: middle;\n",
              "    }\n",
              "\n",
              "    .dataframe tbody tr th {\n",
              "        vertical-align: top;\n",
              "    }\n",
              "\n",
              "    .dataframe thead th {\n",
              "        text-align: right;\n",
              "    }\n",
              "</style>\n",
              "<table border=\"1\" class=\"dataframe\">\n",
              "  <thead>\n",
              "    <tr style=\"text-align: right;\">\n",
              "      <th></th>\n",
              "      <th>Showroom_Price</th>\n",
              "      <th>City_Mileage</th>\n",
              "      <th>Cylinders</th>\n",
              "      <th>Emission_Norm</th>\n",
              "      <th>Fuel_Tank_Capacity</th>\n",
              "      <th>Fuel_Type</th>\n",
              "      <th>target</th>\n",
              "    </tr>\n",
              "  </thead>\n",
              "  <tbody>\n",
              "    <tr>\n",
              "      <th>0</th>\n",
              "      <td>3.0</td>\n",
              "      <td>23.6</td>\n",
              "      <td>2.0</td>\n",
              "      <td>2</td>\n",
              "      <td>3</td>\n",
              "      <td>5</td>\n",
              "      <td>3.0</td>\n",
              "    </tr>\n",
              "    <tr>\n",
              "      <th>1</th>\n",
              "      <td>2.0</td>\n",
              "      <td>23.6</td>\n",
              "      <td>2.0</td>\n",
              "      <td>2</td>\n",
              "      <td>3</td>\n",
              "      <td>5</td>\n",
              "      <td>2.0</td>\n",
              "    </tr>\n",
              "    <tr>\n",
              "      <th>2</th>\n",
              "      <td>3.0</td>\n",
              "      <td>23.6</td>\n",
              "      <td>2.0</td>\n",
              "      <td>2</td>\n",
              "      <td>2</td>\n",
              "      <td>0</td>\n",
              "      <td>3.0</td>\n",
              "    </tr>\n",
              "    <tr>\n",
              "      <th>3</th>\n",
              "      <td>3.0</td>\n",
              "      <td>23.6</td>\n",
              "      <td>2.0</td>\n",
              "      <td>2</td>\n",
              "      <td>3</td>\n",
              "      <td>5</td>\n",
              "      <td>3.0</td>\n",
              "    </tr>\n",
              "    <tr>\n",
              "      <th>4</th>\n",
              "      <td>3.0</td>\n",
              "      <td>23.6</td>\n",
              "      <td>2.0</td>\n",
              "      <td>2</td>\n",
              "      <td>3</td>\n",
              "      <td>5</td>\n",
              "      <td>3.0</td>\n",
              "    </tr>\n",
              "    <tr>\n",
              "      <th>...</th>\n",
              "      <td>...</td>\n",
              "      <td>...</td>\n",
              "      <td>...</td>\n",
              "      <td>...</td>\n",
              "      <td>...</td>\n",
              "      <td>...</td>\n",
              "      <td>...</td>\n",
              "    </tr>\n",
              "    <tr>\n",
              "      <th>1271</th>\n",
              "      <td>13.0</td>\n",
              "      <td>22.6</td>\n",
              "      <td>4.0</td>\n",
              "      <td>2</td>\n",
              "      <td>10</td>\n",
              "      <td>2</td>\n",
              "      <td>13.0</td>\n",
              "    </tr>\n",
              "    <tr>\n",
              "      <th>1272</th>\n",
              "      <td>14.0</td>\n",
              "      <td>22.6</td>\n",
              "      <td>4.0</td>\n",
              "      <td>2</td>\n",
              "      <td>10</td>\n",
              "      <td>2</td>\n",
              "      <td>14.0</td>\n",
              "    </tr>\n",
              "    <tr>\n",
              "      <th>1273</th>\n",
              "      <td>14.0</td>\n",
              "      <td>18</td>\n",
              "      <td>4.0</td>\n",
              "      <td>0</td>\n",
              "      <td>10</td>\n",
              "      <td>5</td>\n",
              "      <td>14.0</td>\n",
              "    </tr>\n",
              "    <tr>\n",
              "      <th>1274</th>\n",
              "      <td>12.0</td>\n",
              "      <td>14.3</td>\n",
              "      <td>4.0</td>\n",
              "      <td>0</td>\n",
              "      <td>10</td>\n",
              "      <td>5</td>\n",
              "      <td>12.0</td>\n",
              "    </tr>\n",
              "    <tr>\n",
              "      <th>1275</th>\n",
              "      <td>69.0</td>\n",
              "      <td>8.25</td>\n",
              "      <td>4.0</td>\n",
              "      <td>2</td>\n",
              "      <td>54</td>\n",
              "      <td>2</td>\n",
              "      <td>69.0</td>\n",
              "    </tr>\n",
              "  </tbody>\n",
              "</table>\n",
              "<p>704 rows × 7 columns</p>\n",
              "</div>\n",
              "      <button class=\"colab-df-convert\" onclick=\"convertToInteractive('df-770b74d6-a713-4f7c-974c-7334b678281a')\"\n",
              "              title=\"Convert this dataframe to an interactive table.\"\n",
              "              style=\"display:none;\">\n",
              "        \n",
              "  <svg xmlns=\"http://www.w3.org/2000/svg\" height=\"24px\"viewBox=\"0 0 24 24\"\n",
              "       width=\"24px\">\n",
              "    <path d=\"M0 0h24v24H0V0z\" fill=\"none\"/>\n",
              "    <path d=\"M18.56 5.44l.94 2.06.94-2.06 2.06-.94-2.06-.94-.94-2.06-.94 2.06-2.06.94zm-11 1L8.5 8.5l.94-2.06 2.06-.94-2.06-.94L8.5 2.5l-.94 2.06-2.06.94zm10 10l.94 2.06.94-2.06 2.06-.94-2.06-.94-.94-2.06-.94 2.06-2.06.94z\"/><path d=\"M17.41 7.96l-1.37-1.37c-.4-.4-.92-.59-1.43-.59-.52 0-1.04.2-1.43.59L10.3 9.45l-7.72 7.72c-.78.78-.78 2.05 0 2.83L4 21.41c.39.39.9.59 1.41.59.51 0 1.02-.2 1.41-.59l7.78-7.78 2.81-2.81c.8-.78.8-2.07 0-2.86zM5.41 20L4 18.59l7.72-7.72 1.47 1.35L5.41 20z\"/>\n",
              "  </svg>\n",
              "      </button>\n",
              "      \n",
              "  <style>\n",
              "    .colab-df-container {\n",
              "      display:flex;\n",
              "      flex-wrap:wrap;\n",
              "      gap: 12px;\n",
              "    }\n",
              "\n",
              "    .colab-df-convert {\n",
              "      background-color: #E8F0FE;\n",
              "      border: none;\n",
              "      border-radius: 50%;\n",
              "      cursor: pointer;\n",
              "      display: none;\n",
              "      fill: #1967D2;\n",
              "      height: 32px;\n",
              "      padding: 0 0 0 0;\n",
              "      width: 32px;\n",
              "    }\n",
              "\n",
              "    .colab-df-convert:hover {\n",
              "      background-color: #E2EBFA;\n",
              "      box-shadow: 0px 1px 2px rgba(60, 64, 67, 0.3), 0px 1px 3px 1px rgba(60, 64, 67, 0.15);\n",
              "      fill: #174EA6;\n",
              "    }\n",
              "\n",
              "    [theme=dark] .colab-df-convert {\n",
              "      background-color: #3B4455;\n",
              "      fill: #D2E3FC;\n",
              "    }\n",
              "\n",
              "    [theme=dark] .colab-df-convert:hover {\n",
              "      background-color: #434B5C;\n",
              "      box-shadow: 0px 1px 3px 1px rgba(0, 0, 0, 0.15);\n",
              "      filter: drop-shadow(0px 1px 2px rgba(0, 0, 0, 0.3));\n",
              "      fill: #FFFFFF;\n",
              "    }\n",
              "  </style>\n",
              "\n",
              "      <script>\n",
              "        const buttonEl =\n",
              "          document.querySelector('#df-770b74d6-a713-4f7c-974c-7334b678281a button.colab-df-convert');\n",
              "        buttonEl.style.display =\n",
              "          google.colab.kernel.accessAllowed ? 'block' : 'none';\n",
              "\n",
              "        async function convertToInteractive(key) {\n",
              "          const element = document.querySelector('#df-770b74d6-a713-4f7c-974c-7334b678281a');\n",
              "          const dataTable =\n",
              "            await google.colab.kernel.invokeFunction('convertToInteractive',\n",
              "                                                     [key], {});\n",
              "          if (!dataTable) return;\n",
              "\n",
              "          const docLinkHtml = 'Like what you see? Visit the ' +\n",
              "            '<a target=\"_blank\" href=https://colab.research.google.com/notebooks/data_table.ipynb>data table notebook</a>'\n",
              "            + ' to learn more about interactive tables.';\n",
              "          element.innerHTML = '';\n",
              "          dataTable['output_type'] = 'display_data';\n",
              "          await google.colab.output.renderOutput(dataTable, element);\n",
              "          const docLink = document.createElement('div');\n",
              "          docLink.innerHTML = docLinkHtml;\n",
              "          element.appendChild(docLink);\n",
              "        }\n",
              "      </script>\n",
              "    </div>\n",
              "  </div>\n",
              "  "
            ]
          },
          "metadata": {},
          "execution_count": 37
        }
      ]
    },
    {
      "cell_type": "code",
      "source": [
        "trg = kk['Showroom_Price']\n",
        "trg"
      ],
      "metadata": {
        "colab": {
          "base_uri": "https://localhost:8080/"
        },
        "id": "JZECLFr1_8pQ",
        "outputId": "601da031-66ff-4716-ded0-567eb4370927"
      },
      "execution_count": 38,
      "outputs": [
        {
          "output_type": "execute_result",
          "data": {
            "text/plain": [
              "0        3.0\n",
              "1        2.0\n",
              "2        3.0\n",
              "3        3.0\n",
              "4        3.0\n",
              "        ... \n",
              "1271    13.0\n",
              "1272    14.0\n",
              "1273    14.0\n",
              "1274    12.0\n",
              "1275    69.0\n",
              "Name: Showroom_Price, Length: 704, dtype: float64"
            ]
          },
          "metadata": {},
          "execution_count": 38
        }
      ]
    },
    {
      "cell_type": "code",
      "source": [
        "import matplotlib.pyplot as plt\n",
        "%matplotlib inline\n",
        "\n",
        "kk0 = kk[:500]\n",
        "kk1 = kk[500:]"
      ],
      "metadata": {
        "id": "ydYQ6b-VAmE3"
      },
      "execution_count": 39,
      "outputs": []
    },
    {
      "cell_type": "markdown",
      "source": [
        "showroom price with respect to fuel tank capacity"
      ],
      "metadata": {
        "id": "LZN71FBPQFut"
      }
    },
    {
      "cell_type": "code",
      "source": [
        "plt.xlabel('Showroom_price')\n",
        "plt.ylabel('Fuel_Tank_Capacity')\n",
        "plt.scatter(kk0['Showroom_Price'], kk0['Fuel_Tank_Capacity'],color=\"green\",marker='+')\n",
        "plt.scatter(kk1['Showroom_Price'], kk1['Fuel_Tank_Capacity'],color=\"blue\",marker='.')"
      ],
      "metadata": {
        "colab": {
          "base_uri": "https://localhost:8080/",
          "height": 297
        },
        "id": "fHi8AHD3Avl_",
        "outputId": "bb31a9b9-a81e-49d8-bd52-0078041efda4"
      },
      "execution_count": 40,
      "outputs": [
        {
          "output_type": "execute_result",
          "data": {
            "text/plain": [
              "<matplotlib.collections.PathCollection at 0x7ffa56f33710>"
            ]
          },
          "metadata": {},
          "execution_count": 40
        },
        {
          "output_type": "display_data",
          "data": {
            "text/plain": [
              "<Figure size 432x288 with 1 Axes>"
            ],
            "image/png": "[encoded data removed]"
          },
          "metadata": {
            "needs_background": "light"
          }
        }
      ]
    },
    {
      "cell_type": "markdown",
      "source": [
        "showroom price with respect to Emission norms"
      ],
      "metadata": {
        "id": "yNxMg3xYQTgn"
      }
    },
    {
      "cell_type": "code",
      "source": [
        "plt.xlabel('Showroom_price')\n",
        "plt.ylabel('Emission_Norm')\n",
        "plt.scatter(kk0['Showroom_Price'], kk0['Emission_Norm'],color=\"green\",marker='+')\n",
        "plt.scatter(kk1['Showroom_Price'], kk1['Emission_Norm'],color=\"blue\",marker='.')"
      ],
      "metadata": {
        "colab": {
          "base_uri": "https://localhost:8080/",
          "height": 297
        },
        "id": "UwVQ4DY3BmQz",
        "outputId": "ecab18e3-3e38-4a32-b9a3-f9dd8b439dab"
      },
      "execution_count": 41,
      "outputs": [
        {
          "output_type": "execute_result",
          "data": {
            "text/plain": [
              "<matplotlib.collections.PathCollection at 0x7ffa56f33690>"
            ]
          },
          "metadata": {},
          "execution_count": 41
        },
        {
          "output_type": "display_data",
          "data": {
            "text/plain": [
              "<Figure size 432x288 with 1 Axes>"
            ],
            "image/png": "[encoded data removed]"
          },
          "metadata": {
            "needs_background": "light"
          }
        }
      ]
    },
    {
      "cell_type": "code",
      "source": [
        "from sklearn.model_selection import train_test_split\n",
        "X = kk.drop(['target','Showroom_Price'],axis='columns')\n",
        "y= kk.target"
      ],
      "metadata": {
        "id": "2AZ6La3aCQ4l"
      },
      "execution_count": 42,
      "outputs": []
    },
    {
      "cell_type": "code",
      "source": [
        "X_train, X_test, y_train, y_test = train_test_split(X, y, test_size=0.2, random_state=1)"
      ],
      "metadata": {
        "id": "yj9HOae_DPSN"
      },
      "execution_count": 43,
      "outputs": []
    },
    {
      "cell_type": "code",
      "source": [
        "len(X_train)"
      ],
      "metadata": {
        "colab": {
          "base_uri": "https://localhost:8080/"
        },
        "id": "va4I-0kgDY8N",
        "outputId": "9f022675-eb40-4848-ce2c-d943330ef68c"
      },
      "execution_count": 44,
      "outputs": [
        {
          "output_type": "execute_result",
          "data": {
            "text/plain": [
              "563"
            ]
          },
          "metadata": {},
          "execution_count": 44
        }
      ]
    },
    {
      "cell_type": "code",
      "source": [
        "len(X_test)"
      ],
      "metadata": {
        "colab": {
          "base_uri": "https://localhost:8080/"
        },
        "id": "pWsmkgxbDbo0",
        "outputId": "3248ead9-56fa-4cdf-e034-b0a2294c65f3"
      },
      "execution_count": 45,
      "outputs": [
        {
          "output_type": "execute_result",
          "data": {
            "text/plain": [
              "141"
            ]
          },
          "metadata": {},
          "execution_count": 45
        }
      ]
    },
    {
      "cell_type": "code",
      "source": [
        "from sklearn.neighbors import KNeighborsClassifier\n",
        "knn = KNeighborsClassifier(n_neighbors=10)"
      ],
      "metadata": {
        "id": "bvyd1K1XDeaE"
      },
      "execution_count": 46,
      "outputs": []
    },
    {
      "cell_type": "code",
      "source": [
        "knn.fit(X_train, y_train)"
      ],
      "metadata": {
        "colab": {
          "base_uri": "https://localhost:8080/"
        },
        "id": "4Rr9X7jmDi4M",
        "outputId": "a166b467-d308-448e-d94a-afbe85162c54"
      },
      "execution_count": 47,
      "outputs": [
        {
          "output_type": "execute_result",
          "data": {
            "text/plain": [
              "KNeighborsClassifier(n_neighbors=10)"
            ]
          },
          "metadata": {},
          "execution_count": 47
        }
      ]
    },
    {
      "cell_type": "code",
      "source": [
        "knn.score(X_test,y_test)"
      ],
      "metadata": {
        "colab": {
          "base_uri": "https://localhost:8080/"
        },
        "id": "o-HTB6keDrNl",
        "outputId": "989edb2d-137b-4583-a2bd-37db91783ea8"
      },
      "execution_count": 48,
      "outputs": [
        {
          "output_type": "execute_result",
          "data": {
            "text/plain": [
              "0.19148936170212766"
            ]
          },
          "metadata": {},
          "execution_count": 48
        }
      ]
    },
    {
      "cell_type": "markdown",
      "source": [
        "confusion matrix and the visual representation of it"
      ],
      "metadata": {
        "id": "TEUqFuFAQdD-"
      }
    },
    {
      "cell_type": "code",
      "source": [
        "from sklearn.metrics import confusion_matrix\n",
        "y_pred = knn.predict(X_test)\n",
        "cm = confusion_matrix(y_test, y_pred)\n",
        "cm"
      ],
      "metadata": {
        "colab": {
          "base_uri": "https://localhost:8080/"
        },
        "id": "rv52wvkiDyBk",
        "outputId": "d862e785-4ae2-4fbc-cb4a-92e64551d14b"
      },
      "execution_count": 49,
      "outputs": [
        {
          "output_type": "execute_result",
          "data": {
            "text/plain": [
              "array([[1, 1, 0, ..., 0, 0, 0],\n",
              "       [0, 2, 1, ..., 0, 0, 0],\n",
              "       [0, 2, 1, ..., 0, 0, 0],\n",
              "       ...,\n",
              "       [0, 0, 0, ..., 0, 0, 0],\n",
              "       [0, 0, 0, ..., 0, 0, 0],\n",
              "       [0, 0, 0, ..., 0, 0, 0]])"
            ]
          },
          "metadata": {},
          "execution_count": 49
        }
      ]
    },
    {
      "cell_type": "code",
      "source": [
        "%matplotlib inline\n",
        "import matplotlib.pyplot as plt\n",
        "import seaborn as sn\n",
        "plt.figure(figsize=(40,56))\n",
        "sn.heatmap(cm, annot=True)\n",
        "plt.xlabel('Predicted')\n",
        "plt.ylabel('Truth')"
      ],
      "metadata": {
        "colab": {
          "base_uri": "https://localhost:8080/",
          "height": 1000
        },
        "id": "plzfO2dSECO1",
        "outputId": "56185d44-cb0d-43de-bf01-1dd92cd83bcd"
      },
      "execution_count": 55,
      "outputs": [
        {
          "output_type": "execute_result",
          "data": {
            "text/plain": [
              "Text(339.0, 0.5, 'Truth')"
            ]
          },
          "metadata": {},
          "execution_count": 55
        },
        {
          "output_type": "display_data",
          "data": {
            "text/plain": [
              "<Figure size 2880x4032 with 2 Axes>"
            ],
            "image/png": "[encoded data removed]"
          },
          "metadata": {
            "needs_background": "light"
          }
        }
      ]
    },
    {
      "cell_type": "markdown",
      "source": [
        "classification report according to y_test and y_pred\n"
      ],
      "metadata": {
        "id": "GjQAU4wOQnNM"
      }
    },
    {
      "cell_type": "code",
      "source": [
        "from sklearn.metrics import classification_report\n",
        "\n",
        "print(classification_report(y_test, y_pred))"
      ],
      "metadata": {
        "colab": {
          "base_uri": "https://localhost:8080/"
        },
        "id": "eza3kfWQEOuD",
        "outputId": "25408ab0-2a0c-4558-d6bd-1ba1baac0b93"
      },
      "execution_count": 51,
      "outputs": [
        {
          "output_type": "stream",
          "name": "stdout",
          "text": [
            "              precision    recall  f1-score   support\n",
            "\n",
            "         3.0       1.00      0.33      0.50         3\n",
            "         4.0       0.33      0.67      0.44         3\n",
            "         5.0       0.11      0.25      0.15         4\n",
            "         6.0       0.60      0.38      0.46        24\n",
            "         7.0       0.25      0.18      0.21        11\n",
            "         8.0       0.15      0.40      0.22        10\n",
            "         9.0       0.25      0.27      0.26        11\n",
            "        10.0       0.10      0.22      0.14         9\n",
            "        11.0       0.00      0.00      0.00         6\n",
            "        12.0       0.17      0.17      0.17         6\n",
            "        13.0       1.00      0.50      0.67         2\n",
            "        14.0       0.00      0.00      0.00         3\n",
            "        15.0       0.00      0.00      0.00         2\n",
            "        16.0       0.00      0.00      0.00         0\n",
            "        17.0       0.00      0.00      0.00         3\n",
            "        18.0       0.00      0.00      0.00         2\n",
            "        19.0       0.00      0.00      0.00         4\n",
            "        21.0       0.00      0.00      0.00         1\n",
            "        22.0       0.00      0.00      0.00         0\n",
            "        26.0       0.00      0.00      0.00         0\n",
            "        28.0       0.00      0.00      0.00         2\n",
            "        29.0       0.00      0.00      0.00         1\n",
            "        30.0       0.25      0.33      0.29         3\n",
            "        31.0       0.00      0.00      0.00         1\n",
            "        32.0       0.00      0.00      0.00         4\n",
            "        33.0       0.00      0.00      0.00         2\n",
            "        37.0       0.00      0.00      0.00         1\n",
            "        38.0       0.00      0.00      0.00         1\n",
            "        41.0       0.00      0.00      0.00         1\n",
            "        50.0       0.00      0.00      0.00         1\n",
            "        54.0       0.00      0.00      0.00         1\n",
            "        56.0       0.00      0.00      0.00         1\n",
            "        59.0       0.00      0.00      0.00         1\n",
            "        61.0       0.00      0.00      0.00         0\n",
            "        62.0       0.00      0.00      0.00         0\n",
            "        72.0       0.00      0.00      0.00         1\n",
            "        78.0       0.00      0.00      0.00         1\n",
            "        87.0       0.00      0.00      0.00         1\n",
            "        88.0       0.00      0.00      0.00         0\n",
            "       107.0       0.00      0.00      0.00         1\n",
            "       135.0       0.00      0.00      0.00         1\n",
            "       147.0       0.00      0.00      0.00         0\n",
            "       172.0       0.00      0.00      0.00         1\n",
            "       174.0       0.00      0.00      0.00         1\n",
            "       195.0       0.00      0.00      0.00         1\n",
            "       213.0       0.00      0.00      0.00         0\n",
            "       214.0       0.00      0.00      0.00         0\n",
            "       226.0       0.00      0.00      0.00         1\n",
            "       322.0       0.00      0.00      0.00         0\n",
            "       350.0       0.00      0.00      0.00         1\n",
            "       373.0       0.00      0.00      0.00         1\n",
            "       394.0       0.00      0.00      0.00         1\n",
            "       405.0       0.00      0.00      0.00         1\n",
            "       410.0       0.00      0.00      0.00         1\n",
            "       459.0       0.00      0.00      0.00         1\n",
            "       475.0       0.00      0.00      0.00         1\n",
            "       592.0       0.00      0.00      0.00         1\n",
            "\n",
            "    accuracy                           0.19       141\n",
            "   macro avg       0.07      0.06      0.06       141\n",
            "weighted avg       0.22      0.19      0.19       141\n",
            "\n"
          ]
        },
        {
          "output_type": "stream",
          "name": "stderr",
          "text": [
            "/usr/local/lib/python3.7/dist-packages/sklearn/metrics/_classification.py:1318: UndefinedMetricWarning: Precision and F-score are ill-defined and being set to 0.0 in labels with no predicted samples. Use `zero_division` parameter to control this behavior.\n",
            "  _warn_prf(average, modifier, msg_start, len(result))\n",
            "/usr/local/lib/python3.7/dist-packages/sklearn/metrics/_classification.py:1318: UndefinedMetricWarning: Recall and F-score are ill-defined and being set to 0.0 in labels with no true samples. Use `zero_division` parameter to control this behavior.\n",
            "  _warn_prf(average, modifier, msg_start, len(result))\n",
            "/usr/local/lib/python3.7/dist-packages/sklearn/metrics/_classification.py:1318: UndefinedMetricWarning: Precision and F-score are ill-defined and being set to 0.0 in labels with no predicted samples. Use `zero_division` parameter to control this behavior.\n",
            "  _warn_prf(average, modifier, msg_start, len(result))\n",
            "/usr/local/lib/python3.7/dist-packages/sklearn/metrics/_classification.py:1318: UndefinedMetricWarning: Recall and F-score are ill-defined and being set to 0.0 in labels with no true samples. Use `zero_division` parameter to control this behavior.\n",
            "  _warn_prf(average, modifier, msg_start, len(result))\n",
            "/usr/local/lib/python3.7/dist-packages/sklearn/metrics/_classification.py:1318: UndefinedMetricWarning: Precision and F-score are ill-defined and being set to 0.0 in labels with no predicted samples. Use `zero_division` parameter to control this behavior.\n",
            "  _warn_prf(average, modifier, msg_start, len(result))\n",
            "/usr/local/lib/python3.7/dist-packages/sklearn/metrics/_classification.py:1318: UndefinedMetricWarning: Recall and F-score are ill-defined and being set to 0.0 in labels with no true samples. Use `zero_division` parameter to control this behavior.\n",
            "  _warn_prf(average, modifier, msg_start, len(result))\n"
          ]
        }
      ]
    },
    {
      "cell_type": "markdown",
      "source": [
        "Graph between y_test i.e. truth and y_pred i.e. the predicted"
      ],
      "metadata": {
        "id": "IbCUEFsMQypN"
      }
    },
    {
      "cell_type": "code",
      "source": [
        "plt.xlabel('Predicted')\n",
        "plt.ylabel('Truth')\n",
        "plt.scatter(y_test,y_pred,color=\"green\",marker='+')"
      ],
      "metadata": {
        "colab": {
          "base_uri": "https://localhost:8080/",
          "height": 296
        },
        "id": "6pL6qH6vEwZs",
        "outputId": "94f14e95-881e-492e-b9e6-801a453ec9e4"
      },
      "execution_count": 52,
      "outputs": [
        {
          "output_type": "execute_result",
          "data": {
            "text/plain": [
              "<matplotlib.collections.PathCollection at 0x7ffa54feaa10>"
            ]
          },
          "metadata": {},
          "execution_count": 52
        },
        {
          "output_type": "display_data",
          "data": {
            "text/plain": [
              "<Figure size 432x288 with 1 Axes>"
            ],
            "image/png": "[encoded data removed]"
          },
          "metadata": {
            "needs_background": "light"
          }
        }
      ]
    },
    {
      "cell_type": "code",
      "source": [
        ""
      ],
      "metadata": {
        "id": "pwKogz3TGgs0"
      },
      "execution_count": 52,
      "outputs": []
    }
  ]
}